{
 "cells": [
  {
   "cell_type": "code",
   "execution_count": 1,
   "id": "5a84a610",
   "metadata": {
    "ExecuteTime": {
     "end_time": "2021-07-20T23:53:26.197391Z",
     "start_time": "2021-07-20T23:53:26.194190Z"
    }
   },
   "outputs": [],
   "source": [
    "import warnings\n",
    "warnings.filterwarnings('ignore')"
   ]
  },
  {
   "cell_type": "code",
   "execution_count": 2,
   "id": "59c546ad",
   "metadata": {
    "ExecuteTime": {
     "end_time": "2021-07-20T23:53:28.114779Z",
     "start_time": "2021-07-20T23:53:27.441135Z"
    }
   },
   "outputs": [],
   "source": [
    "import numpy as np\n",
    "import pandas as pd\n",
    "from pathlib import Path\n",
    "from collections import Counter"
   ]
  },
  {
   "cell_type": "code",
<<<<<<< HEAD
<<<<<<< HEAD
   "execution_count": 3,
=======
>>>>>>> d608b6363a50a61ef6e15478259cf4835c68a1a6
=======
>>>>>>> acef5ba427fa409dac298681606824a11c744076
   "id": "2afab619",
   "metadata": {
    "ExecuteTime": {
     "end_time": "2021-07-20T23:54:05.877490Z",
     "start_time": "2021-07-20T23:53:29.420522Z"
    }
   },
   "outputs": [
    {
     "data": {
      "text/html": [
       "<div>\n",
       "<style scoped>\n",
       "    .dataframe tbody tr th:only-of-type {\n",
       "        vertical-align: middle;\n",
       "    }\n",
       "\n",
       "    .dataframe tbody tr th {\n",
       "        vertical-align: top;\n",
       "    }\n",
       "\n",
       "    .dataframe thead th {\n",
       "        text-align: right;\n",
       "    }\n",
       "</style>\n",
       "<table border=\"1\" class=\"dataframe\">\n",
       "  <thead>\n",
       "    <tr style=\"text-align: right;\">\n",
       "      <th></th>\n",
       "      <th>Unnamed: 0</th>\n",
       "      <th>User</th>\n",
       "      <th>Card</th>\n",
       "      <th>Year</th>\n",
       "      <th>Month</th>\n",
       "      <th>Day</th>\n",
       "      <th>Time</th>\n",
       "      <th>Amount</th>\n",
       "      <th>Use Chip</th>\n",
       "      <th>Merchant Name</th>\n",
       "      <th>Merchant City</th>\n",
       "      <th>Merchant State</th>\n",
       "      <th>Zip</th>\n",
       "      <th>MCC</th>\n",
       "      <th>Errors?</th>\n",
       "      <th>Is Fraud?</th>\n",
       "    </tr>\n",
       "  </thead>\n",
       "  <tbody>\n",
       "    <tr>\n",
       "      <th>0</th>\n",
       "      <td>1619</td>\n",
       "      <td>0</td>\n",
       "      <td>0</td>\n",
       "      <td>2007</td>\n",
       "      <td>1</td>\n",
       "      <td>1</td>\n",
       "      <td>06:48</td>\n",
       "      <td>$146.32</td>\n",
       "      <td>Swipe Transaction</td>\n",
       "      <td>2027553650310142703</td>\n",
       "      <td>Seattle</td>\n",
       "      <td>WA</td>\n",
       "      <td>98148.0</td>\n",
       "      <td>5541</td>\n",
       "      <td>NaN</td>\n",
       "      <td>No</td>\n",
       "    </tr>\n",
       "    <tr>\n",
       "      <th>1</th>\n",
       "      <td>1620</td>\n",
       "      <td>0</td>\n",
       "      <td>0</td>\n",
       "      <td>2007</td>\n",
       "      <td>1</td>\n",
       "      <td>2</td>\n",
       "      <td>07:03</td>\n",
       "      <td>$-426.00</td>\n",
       "      <td>Swipe Transaction</td>\n",
       "      <td>-8566951830324093739</td>\n",
       "      <td>Puyallup</td>\n",
       "      <td>WA</td>\n",
       "      <td>98373.0</td>\n",
       "      <td>3640</td>\n",
       "      <td>NaN</td>\n",
       "      <td>No</td>\n",
       "    </tr>\n",
       "    <tr>\n",
       "      <th>2</th>\n",
       "      <td>1621</td>\n",
       "      <td>0</td>\n",
       "      <td>0</td>\n",
       "      <td>2007</td>\n",
       "      <td>1</td>\n",
       "      <td>2</td>\n",
       "      <td>07:27</td>\n",
       "      <td>$126.03</td>\n",
       "      <td>Swipe Transaction</td>\n",
       "      <td>-8566951830324093739</td>\n",
       "      <td>Puyallup</td>\n",
       "      <td>WA</td>\n",
       "      <td>98373.0</td>\n",
       "      <td>3640</td>\n",
       "      <td>NaN</td>\n",
       "      <td>No</td>\n",
       "    </tr>\n",
       "    <tr>\n",
       "      <th>3</th>\n",
       "      <td>1622</td>\n",
       "      <td>0</td>\n",
       "      <td>0</td>\n",
       "      <td>2007</td>\n",
       "      <td>1</td>\n",
       "      <td>3</td>\n",
       "      <td>06:24</td>\n",
       "      <td>$121.71</td>\n",
       "      <td>Swipe Transaction</td>\n",
       "      <td>-34551508091458520</td>\n",
       "      <td>La Verne</td>\n",
       "      <td>CA</td>\n",
       "      <td>91750.0</td>\n",
       "      <td>5912</td>\n",
       "      <td>Insufficient Balance,</td>\n",
       "      <td>No</td>\n",
       "    </tr>\n",
       "    <tr>\n",
       "      <th>4</th>\n",
       "      <td>1623</td>\n",
       "      <td>0</td>\n",
       "      <td>0</td>\n",
       "      <td>2007</td>\n",
       "      <td>1</td>\n",
       "      <td>5</td>\n",
       "      <td>13:06</td>\n",
       "      <td>$13.44</td>\n",
       "      <td>Swipe Transaction</td>\n",
       "      <td>-4500542936415012428</td>\n",
       "      <td>La Verne</td>\n",
       "      <td>CA</td>\n",
       "      <td>91750.0</td>\n",
       "      <td>5814</td>\n",
       "      <td>NaN</td>\n",
       "      <td>No</td>\n",
       "    </tr>\n",
       "  </tbody>\n",
       "</table>\n",
       "</div>"
      ],
      "text/plain": [
       "   Unnamed: 0  User  Card  Year  Month  Day   Time    Amount  \\\n",
       "0        1619     0     0  2007      1    1  06:48   $146.32   \n",
       "1        1620     0     0  2007      1    2  07:03  $-426.00   \n",
       "2        1621     0     0  2007      1    2  07:27   $126.03   \n",
       "3        1622     0     0  2007      1    3  06:24   $121.71   \n",
       "4        1623     0     0  2007      1    5  13:06    $13.44   \n",
       "\n",
       "            Use Chip        Merchant Name Merchant City Merchant State  \\\n",
       "0  Swipe Transaction  2027553650310142703       Seattle             WA   \n",
       "1  Swipe Transaction -8566951830324093739      Puyallup             WA   \n",
       "2  Swipe Transaction -8566951830324093739      Puyallup             WA   \n",
       "3  Swipe Transaction   -34551508091458520      La Verne             CA   \n",
       "4  Swipe Transaction -4500542936415012428      La Verne             CA   \n",
       "\n",
       "       Zip   MCC                Errors? Is Fraud?  \n",
       "0  98148.0  5541                    NaN        No  \n",
       "1  98373.0  3640                    NaN        No  \n",
       "2  98373.0  3640                    NaN        No  \n",
       "3  91750.0  5912  Insufficient Balance,        No  \n",
       "4  91750.0  5814                    NaN        No  "
      ]
     },
     "execution_count": 3,
     "metadata": {},
     "output_type": "execute_result"
    }
   ],
   "source": [
    "file_path = Path('Transactions0719.csv')\n",
    "new_df = pd.read_csv(file_path)\n",
    "new_df.head()"
   ]
  },
  {
   "cell_type": "code",
   "execution_count": 4,
   "id": "96b85374",
   "metadata": {
    "ExecuteTime": {
     "end_time": "2021-07-20T23:54:05.946809Z",
     "start_time": "2021-07-20T23:54:05.921994Z"
    }
   },
   "outputs": [
    {
     "data": {
      "text/html": [
       "<div>\n",
       "<style scoped>\n",
       "    .dataframe tbody tr th:only-of-type {\n",
       "        vertical-align: middle;\n",
       "    }\n",
       "\n",
       "    .dataframe tbody tr th {\n",
       "        vertical-align: top;\n",
       "    }\n",
       "\n",
       "    .dataframe thead th {\n",
       "        text-align: right;\n",
       "    }\n",
       "</style>\n",
       "<table border=\"1\" class=\"dataframe\">\n",
       "  <thead>\n",
       "    <tr style=\"text-align: right;\">\n",
       "      <th></th>\n",
       "      <th>Unnamed:0</th>\n",
       "      <th>User</th>\n",
       "      <th>Card</th>\n",
       "      <th>Year</th>\n",
       "      <th>Month</th>\n",
       "      <th>Day</th>\n",
       "      <th>Time</th>\n",
       "      <th>Amount</th>\n",
       "      <th>UseChip</th>\n",
       "      <th>MerchantName</th>\n",
       "      <th>MerchantCity</th>\n",
       "      <th>MerchantState</th>\n",
       "      <th>Zip</th>\n",
       "      <th>MCC</th>\n",
       "      <th>Errors?</th>\n",
       "      <th>IsFraud?</th>\n",
       "    </tr>\n",
       "  </thead>\n",
       "  <tbody>\n",
       "    <tr>\n",
       "      <th>0</th>\n",
       "      <td>1619</td>\n",
       "      <td>0</td>\n",
       "      <td>0</td>\n",
       "      <td>2007</td>\n",
       "      <td>1</td>\n",
       "      <td>1</td>\n",
       "      <td>06:48</td>\n",
       "      <td>$146.32</td>\n",
       "      <td>Swipe Transaction</td>\n",
       "      <td>2027553650310142703</td>\n",
       "      <td>Seattle</td>\n",
       "      <td>WA</td>\n",
       "      <td>98148.0</td>\n",
       "      <td>5541</td>\n",
       "      <td>NaN</td>\n",
       "      <td>No</td>\n",
       "    </tr>\n",
       "    <tr>\n",
       "      <th>1</th>\n",
       "      <td>1620</td>\n",
       "      <td>0</td>\n",
       "      <td>0</td>\n",
       "      <td>2007</td>\n",
       "      <td>1</td>\n",
       "      <td>2</td>\n",
       "      <td>07:03</td>\n",
       "      <td>$-426.00</td>\n",
       "      <td>Swipe Transaction</td>\n",
       "      <td>-8566951830324093739</td>\n",
       "      <td>Puyallup</td>\n",
       "      <td>WA</td>\n",
       "      <td>98373.0</td>\n",
       "      <td>3640</td>\n",
       "      <td>NaN</td>\n",
       "      <td>No</td>\n",
       "    </tr>\n",
       "    <tr>\n",
       "      <th>2</th>\n",
       "      <td>1621</td>\n",
       "      <td>0</td>\n",
       "      <td>0</td>\n",
       "      <td>2007</td>\n",
       "      <td>1</td>\n",
       "      <td>2</td>\n",
       "      <td>07:27</td>\n",
       "      <td>$126.03</td>\n",
       "      <td>Swipe Transaction</td>\n",
       "      <td>-8566951830324093739</td>\n",
       "      <td>Puyallup</td>\n",
       "      <td>WA</td>\n",
       "      <td>98373.0</td>\n",
       "      <td>3640</td>\n",
       "      <td>NaN</td>\n",
       "      <td>No</td>\n",
       "    </tr>\n",
       "    <tr>\n",
       "      <th>3</th>\n",
       "      <td>1622</td>\n",
       "      <td>0</td>\n",
       "      <td>0</td>\n",
       "      <td>2007</td>\n",
       "      <td>1</td>\n",
       "      <td>3</td>\n",
       "      <td>06:24</td>\n",
       "      <td>$121.71</td>\n",
       "      <td>Swipe Transaction</td>\n",
       "      <td>-34551508091458520</td>\n",
       "      <td>La Verne</td>\n",
       "      <td>CA</td>\n",
       "      <td>91750.0</td>\n",
       "      <td>5912</td>\n",
       "      <td>Insufficient Balance,</td>\n",
       "      <td>No</td>\n",
       "    </tr>\n",
       "    <tr>\n",
       "      <th>4</th>\n",
       "      <td>1623</td>\n",
       "      <td>0</td>\n",
       "      <td>0</td>\n",
       "      <td>2007</td>\n",
       "      <td>1</td>\n",
       "      <td>5</td>\n",
       "      <td>13:06</td>\n",
       "      <td>$13.44</td>\n",
       "      <td>Swipe Transaction</td>\n",
       "      <td>-4500542936415012428</td>\n",
       "      <td>La Verne</td>\n",
       "      <td>CA</td>\n",
       "      <td>91750.0</td>\n",
       "      <td>5814</td>\n",
       "      <td>NaN</td>\n",
       "      <td>No</td>\n",
       "    </tr>\n",
       "    <tr>\n",
       "      <th>...</th>\n",
       "      <td>...</td>\n",
       "      <td>...</td>\n",
       "      <td>...</td>\n",
       "      <td>...</td>\n",
       "      <td>...</td>\n",
       "      <td>...</td>\n",
       "      <td>...</td>\n",
       "      <td>...</td>\n",
       "      <td>...</td>\n",
       "      <td>...</td>\n",
       "      <td>...</td>\n",
       "      <td>...</td>\n",
       "      <td>...</td>\n",
       "      <td>...</td>\n",
       "      <td>...</td>\n",
       "      <td>...</td>\n",
       "    </tr>\n",
       "    <tr>\n",
       "      <th>20218445</th>\n",
       "      <td>24386727</td>\n",
       "      <td>1999</td>\n",
       "      <td>1</td>\n",
       "      <td>2019</td>\n",
       "      <td>12</td>\n",
       "      <td>30</td>\n",
       "      <td>11:38</td>\n",
       "      <td>$66.53</td>\n",
       "      <td>Chip Transaction</td>\n",
       "      <td>2910328604019547969</td>\n",
       "      <td>Milford</td>\n",
       "      <td>NH</td>\n",
       "      <td>3055.0</td>\n",
       "      <td>7538</td>\n",
       "      <td>NaN</td>\n",
       "      <td>No</td>\n",
       "    </tr>\n",
       "    <tr>\n",
       "      <th>20218446</th>\n",
       "      <td>24386728</td>\n",
       "      <td>1999</td>\n",
       "      <td>1</td>\n",
       "      <td>2019</td>\n",
       "      <td>12</td>\n",
       "      <td>30</td>\n",
       "      <td>12:03</td>\n",
       "      <td>$99.67</td>\n",
       "      <td>Chip Transaction</td>\n",
       "      <td>1641456720718814353</td>\n",
       "      <td>Merrimack</td>\n",
       "      <td>NH</td>\n",
       "      <td>3054.0</td>\n",
       "      <td>5411</td>\n",
       "      <td>NaN</td>\n",
       "      <td>No</td>\n",
       "    </tr>\n",
       "    <tr>\n",
       "      <th>20218447</th>\n",
       "      <td>24386729</td>\n",
       "      <td>1999</td>\n",
       "      <td>1</td>\n",
       "      <td>2019</td>\n",
       "      <td>12</td>\n",
       "      <td>30</td>\n",
       "      <td>18:44</td>\n",
       "      <td>$93.63</td>\n",
       "      <td>Chip Transaction</td>\n",
       "      <td>-5501892381419303127</td>\n",
       "      <td>Merrimack</td>\n",
       "      <td>NH</td>\n",
       "      <td>3054.0</td>\n",
       "      <td>5651</td>\n",
       "      <td>NaN</td>\n",
       "      <td>No</td>\n",
       "    </tr>\n",
       "    <tr>\n",
       "      <th>20218448</th>\n",
       "      <td>24386730</td>\n",
       "      <td>1999</td>\n",
       "      <td>1</td>\n",
       "      <td>2019</td>\n",
       "      <td>12</td>\n",
       "      <td>30</td>\n",
       "      <td>20:09</td>\n",
       "      <td>$67.60</td>\n",
       "      <td>Online Transaction</td>\n",
       "      <td>-6160036380778658394</td>\n",
       "      <td>ONLINE</td>\n",
       "      <td>NaN</td>\n",
       "      <td>NaN</td>\n",
       "      <td>4121</td>\n",
       "      <td>NaN</td>\n",
       "      <td>No</td>\n",
       "    </tr>\n",
       "    <tr>\n",
       "      <th>20218449</th>\n",
       "      <td>24386731</td>\n",
       "      <td>1999</td>\n",
       "      <td>1</td>\n",
       "      <td>2019</td>\n",
       "      <td>12</td>\n",
       "      <td>31</td>\n",
       "      <td>20:26</td>\n",
       "      <td>$51.71</td>\n",
       "      <td>Chip Transaction</td>\n",
       "      <td>2500998799892805156</td>\n",
       "      <td>Merrimack</td>\n",
       "      <td>NH</td>\n",
       "      <td>3054.0</td>\n",
       "      <td>4121</td>\n",
       "      <td>NaN</td>\n",
       "      <td>No</td>\n",
       "    </tr>\n",
       "  </tbody>\n",
       "</table>\n",
       "<p>20218450 rows × 16 columns</p>\n",
       "</div>"
      ],
      "text/plain": [
       "          Unnamed:0  User  Card  Year  Month  Day   Time    Amount  \\\n",
       "0              1619     0     0  2007      1    1  06:48   $146.32   \n",
       "1              1620     0     0  2007      1    2  07:03  $-426.00   \n",
       "2              1621     0     0  2007      1    2  07:27   $126.03   \n",
       "3              1622     0     0  2007      1    3  06:24   $121.71   \n",
       "4              1623     0     0  2007      1    5  13:06    $13.44   \n",
       "...             ...   ...   ...   ...    ...  ...    ...       ...   \n",
       "20218445   24386727  1999     1  2019     12   30  11:38    $66.53   \n",
       "20218446   24386728  1999     1  2019     12   30  12:03    $99.67   \n",
       "20218447   24386729  1999     1  2019     12   30  18:44    $93.63   \n",
       "20218448   24386730  1999     1  2019     12   30  20:09    $67.60   \n",
       "20218449   24386731  1999     1  2019     12   31  20:26    $51.71   \n",
       "\n",
       "                     UseChip         MerchantName MerchantCity MerchantState  \\\n",
       "0          Swipe Transaction  2027553650310142703      Seattle            WA   \n",
       "1          Swipe Transaction -8566951830324093739     Puyallup            WA   \n",
       "2          Swipe Transaction -8566951830324093739     Puyallup            WA   \n",
       "3          Swipe Transaction   -34551508091458520     La Verne            CA   \n",
       "4          Swipe Transaction -4500542936415012428     La Verne            CA   \n",
       "...                      ...                  ...          ...           ...   \n",
       "20218445    Chip Transaction  2910328604019547969      Milford            NH   \n",
       "20218446    Chip Transaction  1641456720718814353    Merrimack            NH   \n",
       "20218447    Chip Transaction -5501892381419303127    Merrimack            NH   \n",
       "20218448  Online Transaction -6160036380778658394       ONLINE           NaN   \n",
       "20218449    Chip Transaction  2500998799892805156    Merrimack            NH   \n",
       "\n",
       "              Zip   MCC                Errors? IsFraud?  \n",
       "0         98148.0  5541                    NaN       No  \n",
       "1         98373.0  3640                    NaN       No  \n",
       "2         98373.0  3640                    NaN       No  \n",
       "3         91750.0  5912  Insufficient Balance,       No  \n",
       "4         91750.0  5814                    NaN       No  \n",
       "...           ...   ...                    ...      ...  \n",
       "20218445   3055.0  7538                    NaN       No  \n",
       "20218446   3054.0  5411                    NaN       No  \n",
       "20218447   3054.0  5651                    NaN       No  \n",
       "20218448      NaN  4121                    NaN       No  \n",
       "20218449   3054.0  4121                    NaN       No  \n",
       "\n",
       "[20218450 rows x 16 columns]"
      ]
     },
     "execution_count": 4,
     "metadata": {},
     "output_type": "execute_result"
    }
   ],
   "source": [
    "# clean uo columns by replacing spaces in between words\n",
    "new_df.columns = new_df.columns.str.replace(' ', '')\n",
    "new_df"
   ]
  },
  {
   "cell_type": "code",
   "execution_count": 6,
   "id": "ec6ecb81",
   "metadata": {},
   "outputs": [
    {
     "data": {
      "text/plain": [
       "No     20191733\n",
       "Yes       26717\n",
       "Name: IsFraud?, dtype: int64"
      ]
     },
     "execution_count": 6,
     "metadata": {},
     "output_type": "execute_result"
    }
   ],
   "source": [
    "# counting how many fraulent and non-fraudulent transactions there were in the data\n",
    "new_df['IsFraud?'].value_counts()"
   ]
  },
  {
   "cell_type": "code",
   "execution_count": 7,
   "id": "a509519b",
   "metadata": {},
   "outputs": [
    {
     "data": {
      "text/plain": [
       "Unnamed:0               0\n",
       "User                    0\n",
       "Card                    0\n",
       "Year                    0\n",
       "Month                   0\n",
       "Day                     0\n",
       "Time                    0\n",
       "Amount                  0\n",
       "UseChip                 0\n",
       "MerchantName            0\n",
       "MerchantCity            0\n",
       "MerchantState     2364496\n",
       "Zip               2494240\n",
       "MCC                     0\n",
       "Errors?          19897996\n",
       "IsFraud?                0\n",
       "dtype: int64"
      ]
     },
     "execution_count": 7,
     "metadata": {},
     "output_type": "execute_result"
    }
   ],
   "source": [
    "# looking for na values and counting them per column\n",
    "new_df.isna().sum()"
   ]
  },
  {
   "cell_type": "code",
   "execution_count": 8,
   "id": "5ba67bcf",
   "metadata": {},
   "outputs": [
    {
     "data": {
      "text/html": [
       "<div>\n",
       "<style scoped>\n",
       "    .dataframe tbody tr th:only-of-type {\n",
       "        vertical-align: middle;\n",
       "    }\n",
       "\n",
       "    .dataframe tbody tr th {\n",
       "        vertical-align: top;\n",
       "    }\n",
       "\n",
       "    .dataframe thead th {\n",
       "        text-align: right;\n",
       "    }\n",
       "</style>\n",
       "<table border=\"1\" class=\"dataframe\">\n",
       "  <thead>\n",
       "    <tr style=\"text-align: right;\">\n",
       "      <th></th>\n",
       "      <th>Unnamed:0</th>\n",
       "      <th>User</th>\n",
       "      <th>Card</th>\n",
       "      <th>Year</th>\n",
       "      <th>Month</th>\n",
       "      <th>Day</th>\n",
       "      <th>Time</th>\n",
       "      <th>Amount</th>\n",
       "      <th>UseChip</th>\n",
       "      <th>MerchantName</th>\n",
       "      <th>MerchantCity</th>\n",
       "      <th>MerchantState</th>\n",
       "      <th>Zip</th>\n",
       "      <th>MCC</th>\n",
       "      <th>Errors?</th>\n",
       "      <th>IsFraud?</th>\n",
       "    </tr>\n",
       "  </thead>\n",
       "  <tbody>\n",
       "    <tr>\n",
       "      <th>0</th>\n",
       "      <td>1619</td>\n",
       "      <td>0</td>\n",
       "      <td>0</td>\n",
       "      <td>2007</td>\n",
       "      <td>1</td>\n",
       "      <td>1</td>\n",
       "      <td>06:48</td>\n",
       "      <td>$146.32</td>\n",
       "      <td>Swipe Transaction</td>\n",
       "      <td>2027553650310142703</td>\n",
       "      <td>Seattle</td>\n",
       "      <td>WA</td>\n",
       "      <td>98148.0</td>\n",
       "      <td>5541</td>\n",
       "      <td>NaN</td>\n",
       "      <td>No</td>\n",
       "    </tr>\n",
       "    <tr>\n",
       "      <th>1</th>\n",
       "      <td>1620</td>\n",
       "      <td>0</td>\n",
       "      <td>0</td>\n",
       "      <td>2007</td>\n",
       "      <td>1</td>\n",
       "      <td>2</td>\n",
       "      <td>07:03</td>\n",
       "      <td>$-426.00</td>\n",
       "      <td>Swipe Transaction</td>\n",
       "      <td>-8566951830324093739</td>\n",
       "      <td>Puyallup</td>\n",
       "      <td>WA</td>\n",
       "      <td>98373.0</td>\n",
       "      <td>3640</td>\n",
       "      <td>NaN</td>\n",
       "      <td>No</td>\n",
       "    </tr>\n",
       "    <tr>\n",
       "      <th>2</th>\n",
       "      <td>1621</td>\n",
       "      <td>0</td>\n",
       "      <td>0</td>\n",
       "      <td>2007</td>\n",
       "      <td>1</td>\n",
       "      <td>2</td>\n",
       "      <td>07:27</td>\n",
       "      <td>$126.03</td>\n",
       "      <td>Swipe Transaction</td>\n",
       "      <td>-8566951830324093739</td>\n",
       "      <td>Puyallup</td>\n",
       "      <td>WA</td>\n",
       "      <td>98373.0</td>\n",
       "      <td>3640</td>\n",
       "      <td>NaN</td>\n",
       "      <td>No</td>\n",
       "    </tr>\n",
       "    <tr>\n",
       "      <th>3</th>\n",
       "      <td>1622</td>\n",
       "      <td>0</td>\n",
       "      <td>0</td>\n",
       "      <td>2007</td>\n",
       "      <td>1</td>\n",
       "      <td>3</td>\n",
       "      <td>06:24</td>\n",
       "      <td>$121.71</td>\n",
       "      <td>Swipe Transaction</td>\n",
       "      <td>-34551508091458520</td>\n",
       "      <td>La Verne</td>\n",
       "      <td>CA</td>\n",
       "      <td>91750.0</td>\n",
       "      <td>5912</td>\n",
       "      <td>Insufficient Balance,</td>\n",
       "      <td>No</td>\n",
       "    </tr>\n",
       "    <tr>\n",
       "      <th>4</th>\n",
       "      <td>1623</td>\n",
       "      <td>0</td>\n",
       "      <td>0</td>\n",
       "      <td>2007</td>\n",
       "      <td>1</td>\n",
       "      <td>5</td>\n",
       "      <td>13:06</td>\n",
       "      <td>$13.44</td>\n",
       "      <td>Swipe Transaction</td>\n",
       "      <td>-4500542936415012428</td>\n",
       "      <td>La Verne</td>\n",
       "      <td>CA</td>\n",
       "      <td>91750.0</td>\n",
       "      <td>5814</td>\n",
       "      <td>NaN</td>\n",
       "      <td>No</td>\n",
       "    </tr>\n",
       "    <tr>\n",
       "      <th>...</th>\n",
       "      <td>...</td>\n",
       "      <td>...</td>\n",
       "      <td>...</td>\n",
       "      <td>...</td>\n",
       "      <td>...</td>\n",
       "      <td>...</td>\n",
       "      <td>...</td>\n",
       "      <td>...</td>\n",
       "      <td>...</td>\n",
       "      <td>...</td>\n",
       "      <td>...</td>\n",
       "      <td>...</td>\n",
       "      <td>...</td>\n",
       "      <td>...</td>\n",
       "      <td>...</td>\n",
       "      <td>...</td>\n",
       "    </tr>\n",
       "    <tr>\n",
       "      <th>20218445</th>\n",
       "      <td>24386727</td>\n",
       "      <td>1999</td>\n",
       "      <td>1</td>\n",
       "      <td>2019</td>\n",
       "      <td>12</td>\n",
       "      <td>30</td>\n",
       "      <td>11:38</td>\n",
       "      <td>$66.53</td>\n",
       "      <td>Chip Transaction</td>\n",
       "      <td>2910328604019547969</td>\n",
       "      <td>Milford</td>\n",
       "      <td>NH</td>\n",
       "      <td>3055.0</td>\n",
       "      <td>7538</td>\n",
       "      <td>NaN</td>\n",
       "      <td>No</td>\n",
       "    </tr>\n",
       "    <tr>\n",
       "      <th>20218446</th>\n",
       "      <td>24386728</td>\n",
       "      <td>1999</td>\n",
       "      <td>1</td>\n",
       "      <td>2019</td>\n",
       "      <td>12</td>\n",
       "      <td>30</td>\n",
       "      <td>12:03</td>\n",
       "      <td>$99.67</td>\n",
       "      <td>Chip Transaction</td>\n",
       "      <td>1641456720718814353</td>\n",
       "      <td>Merrimack</td>\n",
       "      <td>NH</td>\n",
       "      <td>3054.0</td>\n",
       "      <td>5411</td>\n",
       "      <td>NaN</td>\n",
       "      <td>No</td>\n",
       "    </tr>\n",
       "    <tr>\n",
       "      <th>20218447</th>\n",
       "      <td>24386729</td>\n",
       "      <td>1999</td>\n",
       "      <td>1</td>\n",
       "      <td>2019</td>\n",
       "      <td>12</td>\n",
       "      <td>30</td>\n",
       "      <td>18:44</td>\n",
       "      <td>$93.63</td>\n",
       "      <td>Chip Transaction</td>\n",
       "      <td>-5501892381419303127</td>\n",
       "      <td>Merrimack</td>\n",
       "      <td>NH</td>\n",
       "      <td>3054.0</td>\n",
       "      <td>5651</td>\n",
       "      <td>NaN</td>\n",
       "      <td>No</td>\n",
       "    </tr>\n",
       "    <tr>\n",
       "      <th>20218448</th>\n",
       "      <td>24386730</td>\n",
       "      <td>1999</td>\n",
       "      <td>1</td>\n",
       "      <td>2019</td>\n",
       "      <td>12</td>\n",
       "      <td>30</td>\n",
       "      <td>20:09</td>\n",
       "      <td>$67.60</td>\n",
       "      <td>Online Transaction</td>\n",
       "      <td>-6160036380778658394</td>\n",
       "      <td>ONLINE</td>\n",
       "      <td>NaN</td>\n",
       "      <td>NaN</td>\n",
       "      <td>4121</td>\n",
       "      <td>NaN</td>\n",
       "      <td>No</td>\n",
       "    </tr>\n",
       "    <tr>\n",
       "      <th>20218449</th>\n",
       "      <td>24386731</td>\n",
       "      <td>1999</td>\n",
       "      <td>1</td>\n",
       "      <td>2019</td>\n",
       "      <td>12</td>\n",
       "      <td>31</td>\n",
       "      <td>20:26</td>\n",
       "      <td>$51.71</td>\n",
       "      <td>Chip Transaction</td>\n",
       "      <td>2500998799892805156</td>\n",
       "      <td>Merrimack</td>\n",
       "      <td>NH</td>\n",
       "      <td>3054.0</td>\n",
       "      <td>4121</td>\n",
       "      <td>NaN</td>\n",
       "      <td>No</td>\n",
       "    </tr>\n",
       "  </tbody>\n",
       "</table>\n",
       "<p>20218450 rows × 16 columns</p>\n",
       "</div>"
      ],
      "text/plain": [
       "          Unnamed:0  User  Card  Year  Month  Day   Time    Amount  \\\n",
       "0              1619     0     0  2007      1    1  06:48   $146.32   \n",
       "1              1620     0     0  2007      1    2  07:03  $-426.00   \n",
       "2              1621     0     0  2007      1    2  07:27   $126.03   \n",
       "3              1622     0     0  2007      1    3  06:24   $121.71   \n",
       "4              1623     0     0  2007      1    5  13:06    $13.44   \n",
       "...             ...   ...   ...   ...    ...  ...    ...       ...   \n",
       "20218445   24386727  1999     1  2019     12   30  11:38    $66.53   \n",
       "20218446   24386728  1999     1  2019     12   30  12:03    $99.67   \n",
       "20218447   24386729  1999     1  2019     12   30  18:44    $93.63   \n",
       "20218448   24386730  1999     1  2019     12   30  20:09    $67.60   \n",
       "20218449   24386731  1999     1  2019     12   31  20:26    $51.71   \n",
       "\n",
       "                     UseChip         MerchantName MerchantCity MerchantState  \\\n",
       "0          Swipe Transaction  2027553650310142703      Seattle            WA   \n",
       "1          Swipe Transaction -8566951830324093739     Puyallup            WA   \n",
       "2          Swipe Transaction -8566951830324093739     Puyallup            WA   \n",
       "3          Swipe Transaction   -34551508091458520     La Verne            CA   \n",
       "4          Swipe Transaction -4500542936415012428     La Verne            CA   \n",
       "...                      ...                  ...          ...           ...   \n",
       "20218445    Chip Transaction  2910328604019547969      Milford            NH   \n",
       "20218446    Chip Transaction  1641456720718814353    Merrimack            NH   \n",
       "20218447    Chip Transaction -5501892381419303127    Merrimack            NH   \n",
       "20218448  Online Transaction -6160036380778658394       ONLINE           NaN   \n",
       "20218449    Chip Transaction  2500998799892805156    Merrimack            NH   \n",
       "\n",
       "              Zip   MCC                Errors? IsFraud?  \n",
       "0         98148.0  5541                    NaN       No  \n",
       "1         98373.0  3640                    NaN       No  \n",
       "2         98373.0  3640                    NaN       No  \n",
       "3         91750.0  5912  Insufficient Balance,       No  \n",
       "4         91750.0  5814                    NaN       No  \n",
       "...           ...   ...                    ...      ...  \n",
       "20218445   3055.0  7538                    NaN       No  \n",
       "20218446   3054.0  5411                    NaN       No  \n",
       "20218447   3054.0  5651                    NaN       No  \n",
       "20218448      NaN  4121                    NaN       No  \n",
       "20218449   3054.0  4121                    NaN       No  \n",
       "\n",
       "[20218450 rows x 16 columns]"
      ]
     },
     "execution_count": 8,
     "metadata": {},
     "output_type": "execute_result"
    }
   ],
   "source": [
    "new_df"
   ]
  },
  {
   "cell_type": "code",
   "execution_count": 9,
   "id": "65061fa6",
   "metadata": {},
   "outputs": [
    {
     "data": {
      "text/plain": [
       "Index(['Unnamed:0', 'User', 'Card', 'Year', 'Month', 'Day', 'Time', 'Amount',\n",
       "       'UseChip', 'MerchantName', 'MerchantCity', 'MerchantState', 'Zip',\n",
       "       'MCC', 'Errors?', 'IsFraud?'],\n",
       "      dtype='object')"
      ]
     },
     "execution_count": 9,
     "metadata": {},
     "output_type": "execute_result"
    }
   ],
   "source": [
    "# show all the columns\n",
    "new_df.columns"
   ]
  },
  {
   "cell_type": "code",
   "execution_count": 10,
   "id": "20db03aa",
   "metadata": {},
   "outputs": [
    {
     "data": {
      "text/plain": [
       "['Unnamed:0',\n",
       " 'User',\n",
       " 'Card',\n",
       " 'Year',\n",
       " 'Month',\n",
       " 'Day',\n",
       " 'MerchantName',\n",
       " 'Zip',\n",
       " 'MCC']"
      ]
     },
     "execution_count": 10,
     "metadata": {},
     "output_type": "execute_result"
    }
   ],
   "source": [
    "# show columns in a list view\n",
    "list(new_df.describe())"
   ]
  },
  {
   "cell_type": "code",
   "execution_count": 5,
   "id": "fbd52fa6",
   "metadata": {
    "ExecuteTime": {
     "end_time": "2021-07-20T23:55:19.443685Z",
     "start_time": "2021-07-20T23:55:03.925338Z"
    }
   },
   "outputs": [
    {
     "data": {
      "text/html": [
       "<div>\n",
       "<style scoped>\n",
       "    .dataframe tbody tr th:only-of-type {\n",
       "        vertical-align: middle;\n",
       "    }\n",
       "\n",
       "    .dataframe tbody tr th {\n",
       "        vertical-align: top;\n",
       "    }\n",
       "\n",
       "    .dataframe thead th {\n",
       "        text-align: right;\n",
       "    }\n",
       "</style>\n",
       "<table border=\"1\" class=\"dataframe\">\n",
       "  <thead>\n",
       "    <tr style=\"text-align: right;\">\n",
       "      <th></th>\n",
       "      <th>Unnamed:0</th>\n",
       "      <th>User</th>\n",
       "      <th>Card</th>\n",
       "      <th>Year</th>\n",
       "      <th>Month</th>\n",
       "      <th>Day</th>\n",
       "      <th>Time</th>\n",
       "      <th>Amount</th>\n",
       "      <th>UseChip</th>\n",
       "      <th>MerchantName</th>\n",
       "      <th>MerchantCity</th>\n",
       "      <th>MerchantState</th>\n",
       "      <th>Zip</th>\n",
       "      <th>MCC</th>\n",
       "      <th>Errors?</th>\n",
       "      <th>IsFraud?</th>\n",
       "    </tr>\n",
       "  </thead>\n",
       "  <tbody>\n",
       "    <tr>\n",
       "      <th>0</th>\n",
       "      <td>1619</td>\n",
       "      <td>0</td>\n",
       "      <td>0</td>\n",
       "      <td>2007</td>\n",
       "      <td>1</td>\n",
       "      <td>1</td>\n",
       "      <td>06:48</td>\n",
       "      <td>146.32</td>\n",
       "      <td>Swipe Transaction</td>\n",
       "      <td>2027553650310142703</td>\n",
       "      <td>Seattle</td>\n",
       "      <td>WA</td>\n",
       "      <td>98148.0</td>\n",
       "      <td>5541</td>\n",
       "      <td>NaN</td>\n",
       "      <td>No</td>\n",
       "    </tr>\n",
       "    <tr>\n",
       "      <th>1</th>\n",
       "      <td>1620</td>\n",
       "      <td>0</td>\n",
       "      <td>0</td>\n",
       "      <td>2007</td>\n",
       "      <td>1</td>\n",
       "      <td>2</td>\n",
       "      <td>07:03</td>\n",
       "      <td>-426.00</td>\n",
       "      <td>Swipe Transaction</td>\n",
       "      <td>-8566951830324093739</td>\n",
       "      <td>Puyallup</td>\n",
       "      <td>WA</td>\n",
       "      <td>98373.0</td>\n",
       "      <td>3640</td>\n",
       "      <td>NaN</td>\n",
       "      <td>No</td>\n",
       "    </tr>\n",
       "    <tr>\n",
       "      <th>2</th>\n",
       "      <td>1621</td>\n",
       "      <td>0</td>\n",
       "      <td>0</td>\n",
       "      <td>2007</td>\n",
       "      <td>1</td>\n",
       "      <td>2</td>\n",
       "      <td>07:27</td>\n",
       "      <td>126.03</td>\n",
       "      <td>Swipe Transaction</td>\n",
       "      <td>-8566951830324093739</td>\n",
       "      <td>Puyallup</td>\n",
       "      <td>WA</td>\n",
       "      <td>98373.0</td>\n",
       "      <td>3640</td>\n",
       "      <td>NaN</td>\n",
       "      <td>No</td>\n",
       "    </tr>\n",
       "    <tr>\n",
       "      <th>3</th>\n",
       "      <td>1622</td>\n",
       "      <td>0</td>\n",
       "      <td>0</td>\n",
       "      <td>2007</td>\n",
       "      <td>1</td>\n",
       "      <td>3</td>\n",
       "      <td>06:24</td>\n",
       "      <td>121.71</td>\n",
       "      <td>Swipe Transaction</td>\n",
       "      <td>-34551508091458520</td>\n",
       "      <td>La Verne</td>\n",
       "      <td>CA</td>\n",
       "      <td>91750.0</td>\n",
       "      <td>5912</td>\n",
       "      <td>Insufficient Balance,</td>\n",
       "      <td>No</td>\n",
       "    </tr>\n",
       "    <tr>\n",
       "      <th>4</th>\n",
       "      <td>1623</td>\n",
       "      <td>0</td>\n",
       "      <td>0</td>\n",
       "      <td>2007</td>\n",
       "      <td>1</td>\n",
       "      <td>5</td>\n",
       "      <td>13:06</td>\n",
       "      <td>13.44</td>\n",
       "      <td>Swipe Transaction</td>\n",
       "      <td>-4500542936415012428</td>\n",
       "      <td>La Verne</td>\n",
       "      <td>CA</td>\n",
       "      <td>91750.0</td>\n",
       "      <td>5814</td>\n",
       "      <td>NaN</td>\n",
       "      <td>No</td>\n",
       "    </tr>\n",
       "    <tr>\n",
       "      <th>...</th>\n",
       "      <td>...</td>\n",
       "      <td>...</td>\n",
       "      <td>...</td>\n",
       "      <td>...</td>\n",
       "      <td>...</td>\n",
       "      <td>...</td>\n",
       "      <td>...</td>\n",
       "      <td>...</td>\n",
       "      <td>...</td>\n",
       "      <td>...</td>\n",
       "      <td>...</td>\n",
       "      <td>...</td>\n",
       "      <td>...</td>\n",
       "      <td>...</td>\n",
       "      <td>...</td>\n",
       "      <td>...</td>\n",
       "    </tr>\n",
       "    <tr>\n",
       "      <th>20218445</th>\n",
       "      <td>24386727</td>\n",
       "      <td>1999</td>\n",
       "      <td>1</td>\n",
       "      <td>2019</td>\n",
       "      <td>12</td>\n",
       "      <td>30</td>\n",
       "      <td>11:38</td>\n",
       "      <td>66.53</td>\n",
       "      <td>Chip Transaction</td>\n",
       "      <td>2910328604019547969</td>\n",
       "      <td>Milford</td>\n",
       "      <td>NH</td>\n",
       "      <td>3055.0</td>\n",
       "      <td>7538</td>\n",
       "      <td>NaN</td>\n",
       "      <td>No</td>\n",
       "    </tr>\n",
       "    <tr>\n",
       "      <th>20218446</th>\n",
       "      <td>24386728</td>\n",
       "      <td>1999</td>\n",
       "      <td>1</td>\n",
       "      <td>2019</td>\n",
       "      <td>12</td>\n",
       "      <td>30</td>\n",
       "      <td>12:03</td>\n",
       "      <td>99.67</td>\n",
       "      <td>Chip Transaction</td>\n",
       "      <td>1641456720718814353</td>\n",
       "      <td>Merrimack</td>\n",
       "      <td>NH</td>\n",
       "      <td>3054.0</td>\n",
       "      <td>5411</td>\n",
       "      <td>NaN</td>\n",
       "      <td>No</td>\n",
       "    </tr>\n",
       "    <tr>\n",
       "      <th>20218447</th>\n",
       "      <td>24386729</td>\n",
       "      <td>1999</td>\n",
       "      <td>1</td>\n",
       "      <td>2019</td>\n",
       "      <td>12</td>\n",
       "      <td>30</td>\n",
       "      <td>18:44</td>\n",
       "      <td>93.63</td>\n",
       "      <td>Chip Transaction</td>\n",
       "      <td>-5501892381419303127</td>\n",
       "      <td>Merrimack</td>\n",
       "      <td>NH</td>\n",
       "      <td>3054.0</td>\n",
       "      <td>5651</td>\n",
       "      <td>NaN</td>\n",
       "      <td>No</td>\n",
       "    </tr>\n",
       "    <tr>\n",
       "      <th>20218448</th>\n",
       "      <td>24386730</td>\n",
       "      <td>1999</td>\n",
       "      <td>1</td>\n",
       "      <td>2019</td>\n",
       "      <td>12</td>\n",
       "      <td>30</td>\n",
       "      <td>20:09</td>\n",
       "      <td>67.60</td>\n",
       "      <td>Online Transaction</td>\n",
       "      <td>-6160036380778658394</td>\n",
       "      <td>ONLINE</td>\n",
       "      <td>NaN</td>\n",
       "      <td>NaN</td>\n",
       "      <td>4121</td>\n",
       "      <td>NaN</td>\n",
       "      <td>No</td>\n",
       "    </tr>\n",
       "    <tr>\n",
       "      <th>20218449</th>\n",
       "      <td>24386731</td>\n",
       "      <td>1999</td>\n",
       "      <td>1</td>\n",
       "      <td>2019</td>\n",
       "      <td>12</td>\n",
       "      <td>31</td>\n",
       "      <td>20:26</td>\n",
       "      <td>51.71</td>\n",
       "      <td>Chip Transaction</td>\n",
       "      <td>2500998799892805156</td>\n",
       "      <td>Merrimack</td>\n",
       "      <td>NH</td>\n",
       "      <td>3054.0</td>\n",
       "      <td>4121</td>\n",
       "      <td>NaN</td>\n",
       "      <td>No</td>\n",
       "    </tr>\n",
       "  </tbody>\n",
       "</table>\n",
       "<p>20218450 rows × 16 columns</p>\n",
       "</div>"
      ],
      "text/plain": [
       "          Unnamed:0  User  Card  Year  Month  Day   Time  Amount  \\\n",
       "0              1619     0     0  2007      1    1  06:48  146.32   \n",
       "1              1620     0     0  2007      1    2  07:03 -426.00   \n",
       "2              1621     0     0  2007      1    2  07:27  126.03   \n",
       "3              1622     0     0  2007      1    3  06:24  121.71   \n",
       "4              1623     0     0  2007      1    5  13:06   13.44   \n",
       "...             ...   ...   ...   ...    ...  ...    ...     ...   \n",
       "20218445   24386727  1999     1  2019     12   30  11:38   66.53   \n",
       "20218446   24386728  1999     1  2019     12   30  12:03   99.67   \n",
       "20218447   24386729  1999     1  2019     12   30  18:44   93.63   \n",
       "20218448   24386730  1999     1  2019     12   30  20:09   67.60   \n",
       "20218449   24386731  1999     1  2019     12   31  20:26   51.71   \n",
       "\n",
       "                     UseChip         MerchantName MerchantCity MerchantState  \\\n",
       "0          Swipe Transaction  2027553650310142703      Seattle            WA   \n",
       "1          Swipe Transaction -8566951830324093739     Puyallup            WA   \n",
       "2          Swipe Transaction -8566951830324093739     Puyallup            WA   \n",
       "3          Swipe Transaction   -34551508091458520     La Verne            CA   \n",
       "4          Swipe Transaction -4500542936415012428     La Verne            CA   \n",
       "...                      ...                  ...          ...           ...   \n",
       "20218445    Chip Transaction  2910328604019547969      Milford            NH   \n",
       "20218446    Chip Transaction  1641456720718814353    Merrimack            NH   \n",
       "20218447    Chip Transaction -5501892381419303127    Merrimack            NH   \n",
       "20218448  Online Transaction -6160036380778658394       ONLINE           NaN   \n",
       "20218449    Chip Transaction  2500998799892805156    Merrimack            NH   \n",
       "\n",
       "              Zip   MCC                Errors? IsFraud?  \n",
       "0         98148.0  5541                    NaN       No  \n",
       "1         98373.0  3640                    NaN       No  \n",
       "2         98373.0  3640                    NaN       No  \n",
       "3         91750.0  5912  Insufficient Balance,       No  \n",
       "4         91750.0  5814                    NaN       No  \n",
       "...           ...   ...                    ...      ...  \n",
       "20218445   3055.0  7538                    NaN       No  \n",
       "20218446   3054.0  5411                    NaN       No  \n",
       "20218447   3054.0  5651                    NaN       No  \n",
       "20218448      NaN  4121                    NaN       No  \n",
       "20218449   3054.0  4121                    NaN       No  \n",
       "\n",
       "[20218450 rows x 16 columns]"
      ]
     },
     "execution_count": 5,
     "metadata": {},
     "output_type": "execute_result"
    }
   ],
   "source": [
    "# replacing all dollar values to numbers and removing '$' signs\n",
    "new_df['Amount'] = pd.to_numeric(new_df['Amount'].str.replace('$', ''))\n",
    "new_df"
   ]
  },
  {
   "cell_type": "code",
   "execution_count": 6,
   "id": "d7b98b1d",
   "metadata": {
    "ExecuteTime": {
     "end_time": "2021-07-20T23:55:19.490362Z",
     "start_time": "2021-07-20T23:55:19.486367Z"
    }
   },
   "outputs": [],
   "source": [
    "# setting the columns we want to keep \n",
    "cols_to_keep = ['Amount', 'Card', 'Year', 'Month', 'Day', 'MCC', 'IsFraud?']"
   ]
  },
  {
   "cell_type": "code",
   "execution_count": 13,
   "id": "0877ab97",
   "metadata": {},
   "outputs": [
    {
     "data": {
      "text/plain": [
       "Swipe Transaction     11809566\n",
       "Chip Transaction       6051735\n",
       "Online Transaction     2357149\n",
       "Name: UseChip, dtype: int64"
      ]
     },
     "execution_count": 13,
     "metadata": {},
     "output_type": "execute_result"
    }
   ],
   "source": [
    "# counting different types of transactions under 'UseChip' column\n",
    "new_df['UseChip'].value_counts()"
   ]
  },
  {
   "cell_type": "code",
   "execution_count": 7,
   "id": "68dce510",
   "metadata": {
    "ExecuteTime": {
     "end_time": "2021-07-20T23:55:21.256536Z",
     "start_time": "2021-07-20T23:55:19.548589Z"
    }
   },
   "outputs": [],
   "source": [
    "\n",
    "usechip_dummies_df = pd.get_dummies(new_df['UseChip'])"
   ]
  },
  {
   "cell_type": "code",
   "execution_count": 8,
   "id": "6c326438",
   "metadata": {
    "ExecuteTime": {
     "end_time": "2021-07-20T23:55:23.095924Z",
     "start_time": "2021-07-20T23:55:21.302810Z"
    }
   },
   "outputs": [
    {
     "data": {
      "text/html": [
       "<div>\n",
       "<style scoped>\n",
       "    .dataframe tbody tr th:only-of-type {\n",
       "        vertical-align: middle;\n",
       "    }\n",
       "\n",
       "    .dataframe tbody tr th {\n",
       "        vertical-align: top;\n",
       "    }\n",
       "\n",
       "    .dataframe thead th {\n",
       "        text-align: right;\n",
       "    }\n",
       "</style>\n",
       "<table border=\"1\" class=\"dataframe\">\n",
       "  <thead>\n",
       "    <tr style=\"text-align: right;\">\n",
       "      <th></th>\n",
       "      <th>Amount</th>\n",
       "      <th>Card</th>\n",
       "      <th>Year</th>\n",
       "      <th>Month</th>\n",
       "      <th>Day</th>\n",
       "      <th>MCC</th>\n",
       "      <th>IsFraud?</th>\n",
       "    </tr>\n",
       "  </thead>\n",
       "  <tbody>\n",
       "    <tr>\n",
       "      <th>0</th>\n",
       "      <td>146.32</td>\n",
       "      <td>0</td>\n",
       "      <td>2007</td>\n",
       "      <td>1</td>\n",
       "      <td>1</td>\n",
       "      <td>5541</td>\n",
       "      <td>No</td>\n",
       "    </tr>\n",
       "    <tr>\n",
       "      <th>1</th>\n",
       "      <td>-426.00</td>\n",
       "      <td>0</td>\n",
       "      <td>2007</td>\n",
       "      <td>1</td>\n",
       "      <td>2</td>\n",
       "      <td>3640</td>\n",
       "      <td>No</td>\n",
       "    </tr>\n",
       "    <tr>\n",
       "      <th>2</th>\n",
       "      <td>126.03</td>\n",
       "      <td>0</td>\n",
       "      <td>2007</td>\n",
       "      <td>1</td>\n",
       "      <td>2</td>\n",
       "      <td>3640</td>\n",
       "      <td>No</td>\n",
       "    </tr>\n",
       "    <tr>\n",
       "      <th>3</th>\n",
       "      <td>121.71</td>\n",
       "      <td>0</td>\n",
       "      <td>2007</td>\n",
       "      <td>1</td>\n",
       "      <td>3</td>\n",
       "      <td>5912</td>\n",
       "      <td>No</td>\n",
       "    </tr>\n",
       "    <tr>\n",
       "      <th>4</th>\n",
       "      <td>13.44</td>\n",
       "      <td>0</td>\n",
       "      <td>2007</td>\n",
       "      <td>1</td>\n",
       "      <td>5</td>\n",
       "      <td>5814</td>\n",
       "      <td>No</td>\n",
       "    </tr>\n",
       "    <tr>\n",
       "      <th>...</th>\n",
       "      <td>...</td>\n",
       "      <td>...</td>\n",
       "      <td>...</td>\n",
       "      <td>...</td>\n",
       "      <td>...</td>\n",
       "      <td>...</td>\n",
       "      <td>...</td>\n",
       "    </tr>\n",
       "    <tr>\n",
       "      <th>20218445</th>\n",
       "      <td>66.53</td>\n",
       "      <td>1</td>\n",
       "      <td>2019</td>\n",
       "      <td>12</td>\n",
       "      <td>30</td>\n",
       "      <td>7538</td>\n",
       "      <td>No</td>\n",
       "    </tr>\n",
       "    <tr>\n",
       "      <th>20218446</th>\n",
       "      <td>99.67</td>\n",
       "      <td>1</td>\n",
       "      <td>2019</td>\n",
       "      <td>12</td>\n",
       "      <td>30</td>\n",
       "      <td>5411</td>\n",
       "      <td>No</td>\n",
       "    </tr>\n",
       "    <tr>\n",
       "      <th>20218447</th>\n",
       "      <td>93.63</td>\n",
       "      <td>1</td>\n",
       "      <td>2019</td>\n",
       "      <td>12</td>\n",
       "      <td>30</td>\n",
       "      <td>5651</td>\n",
       "      <td>No</td>\n",
       "    </tr>\n",
       "    <tr>\n",
       "      <th>20218448</th>\n",
       "      <td>67.60</td>\n",
       "      <td>1</td>\n",
       "      <td>2019</td>\n",
       "      <td>12</td>\n",
       "      <td>30</td>\n",
       "      <td>4121</td>\n",
       "      <td>No</td>\n",
       "    </tr>\n",
       "    <tr>\n",
       "      <th>20218449</th>\n",
       "      <td>51.71</td>\n",
       "      <td>1</td>\n",
       "      <td>2019</td>\n",
       "      <td>12</td>\n",
       "      <td>31</td>\n",
       "      <td>4121</td>\n",
       "      <td>No</td>\n",
       "    </tr>\n",
       "  </tbody>\n",
       "</table>\n",
       "<p>20218450 rows × 7 columns</p>\n",
       "</div>"
      ],
      "text/plain": [
       "          Amount  Card  Year  Month  Day   MCC IsFraud?\n",
       "0         146.32     0  2007      1    1  5541       No\n",
       "1        -426.00     0  2007      1    2  3640       No\n",
       "2         126.03     0  2007      1    2  3640       No\n",
       "3         121.71     0  2007      1    3  5912       No\n",
       "4          13.44     0  2007      1    5  5814       No\n",
       "...          ...   ...   ...    ...  ...   ...      ...\n",
       "20218445   66.53     1  2019     12   30  7538       No\n",
       "20218446   99.67     1  2019     12   30  5411       No\n",
       "20218447   93.63     1  2019     12   30  5651       No\n",
       "20218448   67.60     1  2019     12   30  4121       No\n",
       "20218449   51.71     1  2019     12   31  4121       No\n",
       "\n",
       "[20218450 rows x 7 columns]"
      ]
     },
     "execution_count": 8,
     "metadata": {},
     "output_type": "execute_result"
    }
   ],
   "source": [
    "model_df = new_df[cols_to_keep]\n",
    "model_df"
   ]
  },
  {
   "cell_type": "code",
   "execution_count": 16,
   "id": "d3ac1adc",
   "metadata": {},
   "outputs": [
    {
     "data": {
      "text/plain": [
       "(20218450, 3)"
      ]
     },
     "execution_count": 16,
     "metadata": {},
     "output_type": "execute_result"
    }
   ],
   "source": [
    "usechip_dummies_df.shape"
   ]
  },
  {
   "cell_type": "code",
   "execution_count": 17,
   "id": "248d03ac",
   "metadata": {},
   "outputs": [
    {
     "data": {
      "text/plain": [
       "(20218450, 16)"
      ]
     },
     "execution_count": 17,
     "metadata": {},
     "output_type": "execute_result"
    }
   ],
   "source": [
    "new_df.shape"
   ]
  },
  {
   "cell_type": "code",
   "execution_count": 9,
   "id": "2cc29997",
   "metadata": {
    "ExecuteTime": {
     "end_time": "2021-07-20T23:55:24.046146Z",
     "start_time": "2021-07-20T23:55:23.173390Z"
    }
   },
   "outputs": [
    {
     "data": {
      "text/html": [
       "<div>\n",
       "<style scoped>\n",
       "    .dataframe tbody tr th:only-of-type {\n",
       "        vertical-align: middle;\n",
       "    }\n",
       "\n",
       "    .dataframe tbody tr th {\n",
       "        vertical-align: top;\n",
       "    }\n",
       "\n",
       "    .dataframe thead th {\n",
       "        text-align: right;\n",
       "    }\n",
       "</style>\n",
       "<table border=\"1\" class=\"dataframe\">\n",
       "  <thead>\n",
       "    <tr style=\"text-align: right;\">\n",
       "      <th></th>\n",
       "      <th>Amount</th>\n",
       "      <th>Card</th>\n",
       "      <th>Year</th>\n",
       "      <th>Month</th>\n",
       "      <th>Day</th>\n",
       "      <th>MCC</th>\n",
       "      <th>IsFraud?</th>\n",
       "      <th>Chip Transaction</th>\n",
       "      <th>Online Transaction</th>\n",
       "      <th>Swipe Transaction</th>\n",
       "    </tr>\n",
       "  </thead>\n",
       "  <tbody>\n",
       "    <tr>\n",
       "      <th>0</th>\n",
       "      <td>146.32</td>\n",
       "      <td>0</td>\n",
       "      <td>2007</td>\n",
       "      <td>1</td>\n",
       "      <td>1</td>\n",
       "      <td>5541</td>\n",
       "      <td>No</td>\n",
       "      <td>0</td>\n",
       "      <td>0</td>\n",
       "      <td>1</td>\n",
       "    </tr>\n",
       "    <tr>\n",
       "      <th>1</th>\n",
       "      <td>-426.00</td>\n",
       "      <td>0</td>\n",
       "      <td>2007</td>\n",
       "      <td>1</td>\n",
       "      <td>2</td>\n",
       "      <td>3640</td>\n",
       "      <td>No</td>\n",
       "      <td>0</td>\n",
       "      <td>0</td>\n",
       "      <td>1</td>\n",
       "    </tr>\n",
       "    <tr>\n",
       "      <th>2</th>\n",
       "      <td>126.03</td>\n",
       "      <td>0</td>\n",
       "      <td>2007</td>\n",
       "      <td>1</td>\n",
       "      <td>2</td>\n",
       "      <td>3640</td>\n",
       "      <td>No</td>\n",
       "      <td>0</td>\n",
       "      <td>0</td>\n",
       "      <td>1</td>\n",
       "    </tr>\n",
       "    <tr>\n",
       "      <th>3</th>\n",
       "      <td>121.71</td>\n",
       "      <td>0</td>\n",
       "      <td>2007</td>\n",
       "      <td>1</td>\n",
       "      <td>3</td>\n",
       "      <td>5912</td>\n",
       "      <td>No</td>\n",
       "      <td>0</td>\n",
       "      <td>0</td>\n",
       "      <td>1</td>\n",
       "    </tr>\n",
       "    <tr>\n",
       "      <th>4</th>\n",
       "      <td>13.44</td>\n",
       "      <td>0</td>\n",
       "      <td>2007</td>\n",
       "      <td>1</td>\n",
       "      <td>5</td>\n",
       "      <td>5814</td>\n",
       "      <td>No</td>\n",
       "      <td>0</td>\n",
       "      <td>0</td>\n",
       "      <td>1</td>\n",
       "    </tr>\n",
       "    <tr>\n",
       "      <th>...</th>\n",
       "      <td>...</td>\n",
       "      <td>...</td>\n",
       "      <td>...</td>\n",
       "      <td>...</td>\n",
       "      <td>...</td>\n",
       "      <td>...</td>\n",
       "      <td>...</td>\n",
       "      <td>...</td>\n",
       "      <td>...</td>\n",
       "      <td>...</td>\n",
       "    </tr>\n",
       "    <tr>\n",
       "      <th>20218445</th>\n",
       "      <td>66.53</td>\n",
       "      <td>1</td>\n",
       "      <td>2019</td>\n",
       "      <td>12</td>\n",
       "      <td>30</td>\n",
       "      <td>7538</td>\n",
       "      <td>No</td>\n",
       "      <td>1</td>\n",
       "      <td>0</td>\n",
       "      <td>0</td>\n",
       "    </tr>\n",
       "    <tr>\n",
       "      <th>20218446</th>\n",
       "      <td>99.67</td>\n",
       "      <td>1</td>\n",
       "      <td>2019</td>\n",
       "      <td>12</td>\n",
       "      <td>30</td>\n",
       "      <td>5411</td>\n",
       "      <td>No</td>\n",
       "      <td>1</td>\n",
       "      <td>0</td>\n",
       "      <td>0</td>\n",
       "    </tr>\n",
       "    <tr>\n",
       "      <th>20218447</th>\n",
       "      <td>93.63</td>\n",
       "      <td>1</td>\n",
       "      <td>2019</td>\n",
       "      <td>12</td>\n",
       "      <td>30</td>\n",
       "      <td>5651</td>\n",
       "      <td>No</td>\n",
       "      <td>1</td>\n",
       "      <td>0</td>\n",
       "      <td>0</td>\n",
       "    </tr>\n",
       "    <tr>\n",
       "      <th>20218448</th>\n",
       "      <td>67.60</td>\n",
       "      <td>1</td>\n",
       "      <td>2019</td>\n",
       "      <td>12</td>\n",
       "      <td>30</td>\n",
       "      <td>4121</td>\n",
       "      <td>No</td>\n",
       "      <td>0</td>\n",
       "      <td>1</td>\n",
       "      <td>0</td>\n",
       "    </tr>\n",
       "    <tr>\n",
       "      <th>20218449</th>\n",
       "      <td>51.71</td>\n",
       "      <td>1</td>\n",
       "      <td>2019</td>\n",
       "      <td>12</td>\n",
       "      <td>31</td>\n",
       "      <td>4121</td>\n",
       "      <td>No</td>\n",
       "      <td>1</td>\n",
       "      <td>0</td>\n",
       "      <td>0</td>\n",
       "    </tr>\n",
       "  </tbody>\n",
       "</table>\n",
       "<p>20218450 rows × 10 columns</p>\n",
       "</div>"
      ],
      "text/plain": [
       "          Amount  Card  Year  Month  Day   MCC IsFraud?  Chip Transaction  \\\n",
       "0         146.32     0  2007      1    1  5541       No                 0   \n",
       "1        -426.00     0  2007      1    2  3640       No                 0   \n",
       "2         126.03     0  2007      1    2  3640       No                 0   \n",
       "3         121.71     0  2007      1    3  5912       No                 0   \n",
       "4          13.44     0  2007      1    5  5814       No                 0   \n",
       "...          ...   ...   ...    ...  ...   ...      ...               ...   \n",
       "20218445   66.53     1  2019     12   30  7538       No                 1   \n",
       "20218446   99.67     1  2019     12   30  5411       No                 1   \n",
       "20218447   93.63     1  2019     12   30  5651       No                 1   \n",
       "20218448   67.60     1  2019     12   30  4121       No                 0   \n",
       "20218449   51.71     1  2019     12   31  4121       No                 1   \n",
       "\n",
       "          Online Transaction  Swipe Transaction  \n",
       "0                          0                  1  \n",
       "1                          0                  1  \n",
       "2                          0                  1  \n",
       "3                          0                  1  \n",
       "4                          0                  1  \n",
       "...                      ...                ...  \n",
       "20218445                   0                  0  \n",
       "20218446                   0                  0  \n",
       "20218447                   0                  0  \n",
       "20218448                   1                  0  \n",
       "20218449                   0                  0  \n",
       "\n",
       "[20218450 rows x 10 columns]"
      ]
     },
     "execution_count": 9,
     "metadata": {},
     "output_type": "execute_result"
    }
   ],
   "source": [
    "# the model that is ready for XGBoost and resampling\n",
    "model_df = pd.concat([model_df, usechip_dummies_df], axis = 1)\n",
    "model_df"
   ]
  },
  {
   "cell_type": "code",
   "execution_count": 19,
   "id": "9d3c6339",
   "metadata": {},
   "outputs": [
    {
     "data": {
      "text/plain": [
       "No     20191733\n",
       "Yes       26717\n",
       "Name: IsFraud?, dtype: int64"
      ]
     },
     "execution_count": 19,
     "metadata": {},
     "output_type": "execute_result"
    }
   ],
   "source": [
    "model_df['IsFraud?'].value_counts()"
   ]
  },
  {
   "cell_type": "code",
   "execution_count": 20,
   "id": "92606e4d",
   "metadata": {
    "scrolled": false
   },
   "outputs": [
    {
     "name": "stdout",
     "output_type": "stream",
     "text": [
      "2007 No     1062602\n",
      "Yes       1881\n",
      "Name: IsFraud?, dtype: int64\n",
      "2008 No     1219750\n",
      "Yes       3710\n",
      "Name: IsFraud?, dtype: int64\n",
      "2009 No     1354294\n",
      "Yes       1140\n",
      "Name: IsFraud?, dtype: int64\n",
      "2010 No     1487390\n",
      "Yes       3835\n",
      "Name: IsFraud?, dtype: int64\n",
      "2011 No     1570496\n",
      "Yes         55\n",
      "Name: IsFraud?, dtype: int64\n",
      "2012 No     1609496\n",
      "Yes       1333\n",
      "Name: IsFraud?, dtype: int64\n",
      "2013 No     1648899\n",
      "Yes       2018\n",
      "Name: IsFraud?, dtype: int64\n",
      "2014 No     1671291\n",
      "Yes       1052\n",
      "Name: IsFraud?, dtype: int64\n",
      "2015 No     1698090\n",
      "Yes       3281\n",
      "Name: IsFraud?, dtype: int64\n",
      "2016 No     1705345\n",
      "Yes       3579\n",
      "Name: IsFraud?, dtype: int64\n",
      "2017 No     1723105\n",
      "Yes        255\n",
      "Name: IsFraud?, dtype: int64\n",
      "2018 No     1719124\n",
      "Yes       2491\n",
      "Name: IsFraud?, dtype: int64\n",
      "2019 No     1721851\n",
      "Yes       2087\n",
      "Name: IsFraud?, dtype: int64\n"
     ]
    }
   ],
   "source": [
    "#Looking for the amount of \"yes\" and 'no' fraudulent transactions for each year\n",
    "for year in new_df['Year'].unique():\n",
    "    print(year, new_df[new_df['Year']==year]['IsFraud?'].value_counts())"
   ]
  },
  {
   "cell_type": "markdown",
   "id": "ee28ed5e",
   "metadata": {},
   "source": [
    "## Target Variable Class Distribution"
   ]
  },
  {
   "cell_type": "code",
   "execution_count": 28,
   "id": "fe7c7d31",
   "metadata": {
    "ExecuteTime": {
     "end_time": "2021-07-21T00:09:27.254639Z",
     "start_time": "2021-07-21T00:09:27.251589Z"
    }
   },
   "outputs": [],
   "source": [
    "import matplotlib.pyplot as plt"
   ]
  },
  {
   "cell_type": "code",
   "execution_count": 22,
   "id": "594a87d1",
   "metadata": {},
   "outputs": [
    {
     "data": {
      "image/png": "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\n",
      "text/plain": [
       "<Figure size 720x432 with 1 Axes>"
      ]
     },
     "metadata": {
      "needs_background": "light"
     },
     "output_type": "display_data"
    }
   ],
   "source": [
    "ax = model_df['IsFraud?'].value_counts().plot(kind = \"bar\", figsize = (10, 6), fontsize=13, color=\"#192bb0\")\n",
    "ax.set_title(\"Credit Card Fraud (No = No Fraud, Yes = Fraud)\", size=20, pad=30)\n",
    "ax.set_ylabel(\"Number of Transactions\", fontsize=14)\n",
    "\n",
    "for i in ax.patches:\n",
    "    ax.text(i.get_x() + 0.19, i.get_height() + 700, str(round(i.get_height(), 2)), fontsize=15)\n"
   ]
  },
  {
   "cell_type": "code",
   "execution_count": 10,
   "id": "a86c2a27",
   "metadata": {
    "ExecuteTime": {
     "end_time": "2021-07-20T23:55:36.174269Z",
     "start_time": "2021-07-20T23:55:29.984445Z"
    }
   },
   "outputs": [
    {
     "data": {
      "text/html": [
       "<div>\n",
       "<style scoped>\n",
       "    .dataframe tbody tr th:only-of-type {\n",
       "        vertical-align: middle;\n",
       "    }\n",
       "\n",
       "    .dataframe tbody tr th {\n",
       "        vertical-align: top;\n",
       "    }\n",
       "\n",
       "    .dataframe thead th {\n",
       "        text-align: right;\n",
       "    }\n",
       "</style>\n",
       "<table border=\"1\" class=\"dataframe\">\n",
       "  <thead>\n",
       "    <tr style=\"text-align: right;\">\n",
       "      <th></th>\n",
       "      <th>Amount</th>\n",
       "      <th>Card</th>\n",
       "      <th>Year</th>\n",
       "      <th>Month</th>\n",
       "      <th>Day</th>\n",
       "      <th>MCC</th>\n",
       "      <th>IsFraud?</th>\n",
       "      <th>Chip Transaction</th>\n",
       "      <th>Online Transaction</th>\n",
       "      <th>Swipe Transaction</th>\n",
       "    </tr>\n",
       "  </thead>\n",
       "  <tbody>\n",
       "    <tr>\n",
       "      <th>0</th>\n",
       "      <td>146.32</td>\n",
       "      <td>0</td>\n",
       "      <td>2007</td>\n",
       "      <td>1</td>\n",
       "      <td>1</td>\n",
       "      <td>5541</td>\n",
       "      <td>0</td>\n",
       "      <td>0</td>\n",
       "      <td>0</td>\n",
       "      <td>1</td>\n",
       "    </tr>\n",
       "    <tr>\n",
       "      <th>1</th>\n",
       "      <td>-426.00</td>\n",
       "      <td>0</td>\n",
       "      <td>2007</td>\n",
       "      <td>1</td>\n",
       "      <td>2</td>\n",
       "      <td>3640</td>\n",
       "      <td>0</td>\n",
       "      <td>0</td>\n",
       "      <td>0</td>\n",
       "      <td>1</td>\n",
       "    </tr>\n",
       "    <tr>\n",
       "      <th>2</th>\n",
       "      <td>126.03</td>\n",
       "      <td>0</td>\n",
       "      <td>2007</td>\n",
       "      <td>1</td>\n",
       "      <td>2</td>\n",
       "      <td>3640</td>\n",
       "      <td>0</td>\n",
       "      <td>0</td>\n",
       "      <td>0</td>\n",
       "      <td>1</td>\n",
       "    </tr>\n",
       "    <tr>\n",
       "      <th>3</th>\n",
       "      <td>121.71</td>\n",
       "      <td>0</td>\n",
       "      <td>2007</td>\n",
       "      <td>1</td>\n",
       "      <td>3</td>\n",
       "      <td>5912</td>\n",
       "      <td>0</td>\n",
       "      <td>0</td>\n",
       "      <td>0</td>\n",
       "      <td>1</td>\n",
       "    </tr>\n",
       "    <tr>\n",
       "      <th>4</th>\n",
       "      <td>13.44</td>\n",
       "      <td>0</td>\n",
       "      <td>2007</td>\n",
       "      <td>1</td>\n",
       "      <td>5</td>\n",
       "      <td>5814</td>\n",
       "      <td>0</td>\n",
       "      <td>0</td>\n",
       "      <td>0</td>\n",
       "      <td>1</td>\n",
       "    </tr>\n",
       "  </tbody>\n",
       "</table>\n",
       "</div>"
      ],
      "text/plain": [
       "   Amount  Card  Year  Month  Day   MCC  IsFraud?  Chip Transaction  \\\n",
       "0  146.32     0  2007      1    1  5541         0                 0   \n",
       "1 -426.00     0  2007      1    2  3640         0                 0   \n",
       "2  126.03     0  2007      1    2  3640         0                 0   \n",
       "3  121.71     0  2007      1    3  5912         0                 0   \n",
       "4   13.44     0  2007      1    5  5814         0                 0   \n",
       "\n",
       "   Online Transaction  Swipe Transaction  \n",
       "0                   0                  1  \n",
       "1                   0                  1  \n",
       "2                   0                  1  \n",
       "3                   0                  1  \n",
       "4                   0                  1  "
      ]
     },
     "execution_count": 10,
     "metadata": {},
     "output_type": "execute_result"
    }
   ],
   "source": [
    "# Change the stringd column\n",
    "def change_string(Fraud):\n",
    "    if Fraud == 'Yes':\n",
    "        return 1\n",
    "    else:\n",
    "        return 0\n",
    "\n",
    "model_df[\"IsFraud?\"] = model_df[\"IsFraud?\"].apply(change_string)\n",
    "model_df.head()"
   ]
  },
  {
   "cell_type": "code",
   "execution_count": 24,
   "id": "cc033e3c",
   "metadata": {},
   "outputs": [
    {
     "name": "stdout",
     "output_type": "stream",
     "text": [
      "0 0    7397425\n",
      "Name: Card, dtype: int64\n",
      "1 1    5350442\n",
      "Name: Card, dtype: int64\n",
      "2 2    3609532\n",
      "Name: Card, dtype: int64\n",
      "3 3    2251984\n",
      "Name: Card, dtype: int64\n",
      "4 4    993794\n",
      "Name: Card, dtype: int64\n",
      "5 5    434885\n",
      "Name: Card, dtype: int64\n",
      "6 6    139299\n",
      "Name: Card, dtype: int64\n",
      "7 7    36435\n",
      "Name: Card, dtype: int64\n",
      "8 8    4654\n",
      "Name: Card, dtype: int64\n"
     ]
    }
   ],
   "source": [
    "#looking for how many different card values there are (What do the values mean?)\n",
    "for card in model_df['Card'].unique():\n",
    "    print(card, model_df[model_df['Card']==card]['Card'].value_counts())"
   ]
  },
  {
   "cell_type": "code",
   "execution_count": 11,
   "id": "28b10dca",
   "metadata": {
    "ExecuteTime": {
     "end_time": "2021-07-20T23:55:40.420901Z",
     "start_time": "2021-07-20T23:55:36.246550Z"
    }
   },
   "outputs": [],
   "source": [
    "X = model_df.copy()\n",
    "X = X.drop(\"IsFraud?\", axis=1)\n",
    "y = model_df[\"IsFraud?\"].values"
   ]
  },
  {
   "cell_type": "code",
   "execution_count": 12,
   "id": "54e8d0f6",
   "metadata": {
    "ExecuteTime": {
     "end_time": "2021-07-20T23:55:40.502638Z",
     "start_time": "2021-07-20T23:55:40.497044Z"
    }
   },
   "outputs": [
    {
     "data": {
      "text/plain": [
       "array([0, 0, 0, ..., 0, 0, 0])"
      ]
     },
     "execution_count": 12,
     "metadata": {},
     "output_type": "execute_result"
    }
   ],
   "source": [
    "y"
   ]
  },
  {
   "cell_type": "code",
   "execution_count": 13,
   "id": "f16009f8",
   "metadata": {
    "ExecuteTime": {
     "end_time": "2021-07-20T23:55:48.056715Z",
     "start_time": "2021-07-20T23:55:40.589686Z"
    }
   },
   "outputs": [],
   "source": [
    "from sklearn.model_selection import train_test_split\n",
    "from sklearn.preprocessing import StandardScaler\n",
    "X_train, X_test, y_train, y_test = train_test_split(X,\n",
    "   y)"
   ]
  },
  {
   "cell_type": "code",
   "execution_count": 14,
   "id": "d45dfc93",
   "metadata": {
    "ExecuteTime": {
     "end_time": "2021-07-20T23:55:57.850528Z",
     "start_time": "2021-07-20T23:55:49.496928Z"
    }
   },
   "outputs": [
    {
     "data": {
      "text/plain": [
       "Counter({0: 15143710, 1: 20127})"
      ]
     },
     "execution_count": 14,
     "metadata": {},
     "output_type": "execute_result"
    }
   ],
   "source": [
    "from sklearn.model_selection import train_test_split\n",
    "X_train, X_test, y_train, y_test = train_test_split(X, y, random_state=1)\n",
    "Counter(y_train)"
   ]
  },
  {
   "cell_type": "code",
   "execution_count": 15,
   "id": "ea399b03",
   "metadata": {
    "ExecuteTime": {
     "end_time": "2021-07-20T23:56:19.596952Z",
     "start_time": "2021-07-20T23:55:59.387697Z"
    }
   },
   "outputs": [],
   "source": [
    "from imblearn.over_sampling import RandomOverSampler\n",
    "ros = RandomOverSampler(random_state=1)\n",
    "X_resampled, y_resampled = ros.fit_resample(X_train, y_train)"
   ]
  },
  {
   "cell_type": "code",
   "execution_count": 16,
   "id": "c8966b81",
   "metadata": {
    "ExecuteTime": {
     "end_time": "2021-07-20T23:56:23.857766Z",
     "start_time": "2021-07-20T23:56:19.742374Z"
    }
   },
   "outputs": [
    {
     "data": {
      "text/plain": [
       "Counter({0: 15143710, 1: 15143710})"
      ]
     },
     "execution_count": 16,
     "metadata": {},
     "output_type": "execute_result"
    }
   ],
   "source": [
    "Counter(y_resampled)"
   ]
  },
  {
   "cell_type": "code",
   "execution_count": 17,
   "id": "1e98b543",
   "metadata": {
    "ExecuteTime": {
     "end_time": "2021-07-21T00:00:46.837822Z",
     "start_time": "2021-07-20T23:56:31.239462Z"
    }
   },
   "outputs": [
    {
     "data": {
      "text/plain": [
       "LogisticRegression(random_state=1)"
      ]
     },
     "execution_count": 17,
     "metadata": {},
     "output_type": "execute_result"
    }
   ],
   "source": [
    "from sklearn.linear_model import LogisticRegression\n",
    "model = LogisticRegression(solver='lbfgs', random_state=1)\n",
    "model.fit(X_resampled, y_resampled)"
   ]
  },
  {
   "cell_type": "code",
   "execution_count": 18,
   "id": "0e509a16",
   "metadata": {
    "ExecuteTime": {
     "end_time": "2021-07-21T00:00:47.171998Z",
     "start_time": "2021-07-21T00:00:47.168309Z"
    }
   },
   "outputs": [],
   "source": [
    "from sklearn.metrics import confusion_matrix\n",
    "from sklearn.metrics import balanced_accuracy_score\n",
    "from imblearn.metrics import classification_report_imbalanced"
   ]
  },
  {
   "cell_type": "code",
   "execution_count": 19,
   "id": "e38d6548",
   "metadata": {
    "ExecuteTime": {
     "end_time": "2021-07-21T00:00:53.338004Z",
     "start_time": "2021-07-21T00:00:47.290081Z"
    }
   },
   "outputs": [],
   "source": [
    "scaler = StandardScaler()\n",
    "X_scaler = scaler.fit(X_train)\n",
    "X_train_scaled = X_scaler.transform(X_train)\n",
    "X_test_scaled = X_scaler.transform(X_test)"
   ]
  },
  {
   "cell_type": "code",
   "execution_count": 20,
   "id": "cdf755e5",
   "metadata": {
    "ExecuteTime": {
     "end_time": "2021-07-21T00:01:42.502798Z",
     "start_time": "2021-07-21T00:01:39.039244Z"
    }
   },
   "outputs": [
    {
     "data": {
      "text/plain": [
       "array([[4306286,  741737],\n",
       "       [   2018,    4572]])"
      ]
     },
     "execution_count": 20,
     "metadata": {},
     "output_type": "execute_result"
    }
   ],
   "source": [
    "y_pred = model.predict(X_test)\n",
    "confusion_matrix(y_test, y_pred)"
   ]
  },
  {
   "cell_type": "code",
   "execution_count": 23,
   "id": "29bfa923",
   "metadata": {
    "ExecuteTime": {
     "end_time": "2021-07-21T00:04:30.962767Z",
     "start_time": "2021-07-21T00:04:30.210709Z"
    }
   },
   "outputs": [],
   "source": [
    "import seaborn as sn"
   ]
  },
  {
   "cell_type": "code",
   "execution_count": 30,
   "id": "8fcf9944",
   "metadata": {
    "ExecuteTime": {
     "end_time": "2021-07-21T00:10:37.302167Z",
     "start_time": "2021-07-21T00:10:33.877620Z"
    }
   },
   "outputs": [
    {
     "data": {
      "text/plain": [
       "<AxesSubplot:title={'center':'Confusion Matrix (without SMOTE)'}>"
      ]
     },
     "execution_count": 30,
     "metadata": {},
     "output_type": "execute_result"
    },
    {
     "data": {
      "image/png": "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\n",
      "text/plain": [
       "<Figure size 576x432 with 2 Axes>"
      ]
     },
     "metadata": {
      "needs_background": "light"
     },
     "output_type": "display_data"
    }
   ],
   "source": [
    "cm = confusion_matrix(y_test, y_pred)\n",
    "plt.figure(figsize=(8,6))\n",
    "plt.title('Confusion Matrix (without SMOTE)', size =16)\n",
    "sn.heatmap(cm, annot=True, cmap=\"Blues\")"
   ]
  },
  {
   "cell_type": "code",
   "execution_count": 21,
   "id": "21ff2c84",
   "metadata": {
    "ExecuteTime": {
     "end_time": "2021-07-21T00:02:02.537533Z",
     "start_time": "2021-07-21T00:01:59.480688Z"
    }
   },
   "outputs": [
    {
     "data": {
      "text/plain": [
       "0.7734211575117163"
      ]
     },
     "execution_count": 21,
     "metadata": {},
     "output_type": "execute_result"
    }
   ],
   "source": [
    "balanced_accuracy_score(y_test, y_pred)"
   ]
  },
  {
   "cell_type": "code",
   "execution_count": 22,
   "id": "8b537cfc",
   "metadata": {
    "ExecuteTime": {
     "end_time": "2021-07-21T00:02:34.027210Z",
     "start_time": "2021-07-21T00:02:28.305496Z"
    }
   },
   "outputs": [
    {
     "name": "stdout",
     "output_type": "stream",
     "text": [
      "                   pre       rec       spe        f1       geo       iba       sup\n",
      "\n",
      "          0       1.00      0.85      0.69      0.92      0.77      0.60   5048023\n",
      "          1       0.01      0.69      0.85      0.01      0.77      0.58      6590\n",
      "\n",
      "avg / total       1.00      0.85      0.69      0.92      0.77      0.60   5054613\n",
      "\n"
     ]
    }
   ],
   "source": [
    "print(classification_report_imbalanced(y_test, y_pred))"
   ]
  },
  {
   "cell_type": "code",
   "execution_count": 31,
   "id": "93d66c4b",
   "metadata": {
    "ExecuteTime": {
     "end_time": "2021-07-21T00:13:56.878055Z",
     "start_time": "2021-07-21T00:10:57.594347Z"
    }
   },
   "outputs": [
    {
     "name": "stdout",
     "output_type": "stream",
     "text": [
      "Learning rate:  0.75\n",
      "Accuracy score (training): 0.999\n",
      "Accuracy score (validation): 0.999\n"
     ]
    }
   ],
   "source": [
    "from sklearn.ensemble import GradientBoostingClassifier\n",
    "learning_rates = [0.75]\n",
    "\n",
    "\n",
    "for learning_rate in learning_rates:\n",
    "    classifier = GradientBoostingClassifier(n_estimators=10,\n",
    "                                               learning_rate=learning_rate,\n",
    "                                               max_features=5,\n",
    "                                               max_depth=3,\n",
    "                                               random_state=0)\n",
    "    classifier.fit(X_train_scaled, y_train)\n",
    "    print(\"Learning rate: \", learning_rate)\n",
    "    print(\"Accuracy score (training): {0:.3f}\".format(classifier.score(X_train_scaled,\n",
    "                                                                       y_train)))\n",
    "    print(\"Accuracy score (validation): {0:.3f}\".format(classifier.score(X_test_scaled, y_test)))"
   ]
  },
  {
   "cell_type": "code",
   "execution_count": null,
   "id": "83d6502c",
   "metadata": {},
   "outputs": [],
   "source": []
  },
  {
   "cell_type": "markdown",
   "id": "b5f0ea7b",
   "metadata": {},
   "source": [
    "## Data Scaling"
   ]
  },
  {
   "cell_type": "code",
   "execution_count": 32,
   "id": "6f68f3ef",
   "metadata": {
    "ExecuteTime": {
     "end_time": "2021-07-21T00:15:10.428120Z",
     "start_time": "2021-07-21T00:14:59.944693Z"
    }
   },
   "outputs": [
    {
     "data": {
      "text/html": [
       "<div>\n",
       "<style scoped>\n",
       "    .dataframe tbody tr th:only-of-type {\n",
       "        vertical-align: middle;\n",
       "    }\n",
       "\n",
       "    .dataframe tbody tr th {\n",
       "        vertical-align: top;\n",
       "    }\n",
       "\n",
       "    .dataframe thead th {\n",
       "        text-align: right;\n",
       "    }\n",
       "</style>\n",
       "<table border=\"1\" class=\"dataframe\">\n",
       "  <thead>\n",
       "    <tr style=\"text-align: right;\">\n",
       "      <th></th>\n",
       "      <th>Amount</th>\n",
       "      <th>Card</th>\n",
       "      <th>Year</th>\n",
       "      <th>Month</th>\n",
       "      <th>Day</th>\n",
       "      <th>MCC</th>\n",
       "      <th>IsFraud?</th>\n",
       "      <th>Chip Transaction</th>\n",
       "      <th>Online Transaction</th>\n",
       "      <th>Swipe Transaction</th>\n",
       "    </tr>\n",
       "  </thead>\n",
       "  <tbody>\n",
       "    <tr>\n",
       "      <th>0</th>\n",
       "      <td>0.088293</td>\n",
       "      <td>0.0</td>\n",
       "      <td>0.0</td>\n",
       "      <td>0.0</td>\n",
       "      <td>0.000000</td>\n",
       "      <td>0.497985</td>\n",
       "      <td>0</td>\n",
       "      <td>0</td>\n",
       "      <td>0</td>\n",
       "      <td>1</td>\n",
       "    </tr>\n",
       "    <tr>\n",
       "      <th>1</th>\n",
       "      <td>0.010109</td>\n",
       "      <td>0.0</td>\n",
       "      <td>0.0</td>\n",
       "      <td>0.0</td>\n",
       "      <td>0.033333</td>\n",
       "      <td>0.250813</td>\n",
       "      <td>0</td>\n",
       "      <td>0</td>\n",
       "      <td>0</td>\n",
       "      <td>1</td>\n",
       "    </tr>\n",
       "    <tr>\n",
       "      <th>2</th>\n",
       "      <td>0.085521</td>\n",
       "      <td>0.0</td>\n",
       "      <td>0.0</td>\n",
       "      <td>0.0</td>\n",
       "      <td>0.033333</td>\n",
       "      <td>0.250813</td>\n",
       "      <td>0</td>\n",
       "      <td>0</td>\n",
       "      <td>0</td>\n",
       "      <td>1</td>\n",
       "    </tr>\n",
       "    <tr>\n",
       "      <th>3</th>\n",
       "      <td>0.084931</td>\n",
       "      <td>0.0</td>\n",
       "      <td>0.0</td>\n",
       "      <td>0.0</td>\n",
       "      <td>0.066667</td>\n",
       "      <td>0.546223</td>\n",
       "      <td>0</td>\n",
       "      <td>0</td>\n",
       "      <td>0</td>\n",
       "      <td>1</td>\n",
       "    </tr>\n",
       "    <tr>\n",
       "      <th>4</th>\n",
       "      <td>0.070140</td>\n",
       "      <td>0.0</td>\n",
       "      <td>0.0</td>\n",
       "      <td>0.0</td>\n",
       "      <td>0.133333</td>\n",
       "      <td>0.533481</td>\n",
       "      <td>0</td>\n",
       "      <td>0</td>\n",
       "      <td>0</td>\n",
       "      <td>1</td>\n",
       "    </tr>\n",
       "  </tbody>\n",
       "</table>\n",
       "</div>"
      ],
      "text/plain": [
       "     Amount  Card  Year  Month       Day       MCC  IsFraud?  \\\n",
       "0  0.088293   0.0   0.0    0.0  0.000000  0.497985         0   \n",
       "1  0.010109   0.0   0.0    0.0  0.033333  0.250813         0   \n",
       "2  0.085521   0.0   0.0    0.0  0.033333  0.250813         0   \n",
       "3  0.084931   0.0   0.0    0.0  0.066667  0.546223         0   \n",
       "4  0.070140   0.0   0.0    0.0  0.133333  0.533481         0   \n",
       "\n",
       "   Chip Transaction  Online Transaction  Swipe Transaction  \n",
       "0                 0                   0                  1  \n",
       "1                 0                   0                  1  \n",
       "2                 0                   0                  1  \n",
       "3                 0                   0                  1  \n",
       "4                 0                   0                  1  "
      ]
     },
     "execution_count": 32,
     "metadata": {},
     "output_type": "execute_result"
    }
   ],
   "source": [
    "from sklearn.preprocessing import MinMaxScaler\n",
    "\n",
    "# We are scaling only colums that have a value greater than 1\n",
    "to_scale = [col for col in model_df.columns if model_df[col].max() >1]\n",
    "mms = MinMaxScaler()\n",
    "scaled = mms.fit_transform(model_df[to_scale])\n",
    "scaled = pd.DataFrame(scaled, columns=to_scale)\n",
    "\n",
    "#replace original colums with scaled ones\n",
    "for col in scaled:\n",
    "    model_df[col] = scaled[col]\n",
    "    \n",
    "model_df.head()"
   ]
  },
  {
   "cell_type": "code",
   "execution_count": 33,
   "id": "beae4eca",
   "metadata": {
    "ExecuteTime": {
     "end_time": "2021-07-21T00:15:20.595506Z",
     "start_time": "2021-07-21T00:15:10.575023Z"
    }
   },
   "outputs": [
    {
     "name": "stdout",
     "output_type": "stream",
     "text": [
      "% Positive class in Train = 0.13\n",
      "% Positive Class in Test = 0.13\n"
     ]
    }
   ],
   "source": [
    "from sklearn.model_selection import train_test_split\n",
    "\n",
    "X = model_df.drop(\"IsFraud?\", axis=1)\n",
    "y = model_df[\"IsFraud?\"]\n",
    "\n",
    "X_train, X_test, y_train, y_test = train_test_split(\n",
    "    X, y, test_size=0.25, random_state=42)\n",
    "\n",
    "print (f'''% Positive class in Train = {np.round(y_train.value_counts(normalize=True)[1]*100,2)}\n",
    "% Positive Class in Test = {np.round(y_test.value_counts(normalize=True)[1]*100, 2)}''')"
   ]
  },
  {
   "cell_type": "code",
   "execution_count": null,
   "id": "381eb3f3",
   "metadata": {},
   "outputs": [],
   "source": [
    "# # Import dependecies needed\n",
    "# from sklearn.ensemble import RandomForestClassifier\n",
    "# from sklearn.metrics import accuracy_score, recall_score, confusion_matrix\n",
    "\n",
    "# #Train \n",
    "# model = RandomForestClassifier(random_state=42)\n",
    "# model.fit(X_train, y_train)\n",
    "# preds = model.predict(X_test)\n",
    "\n",
    "# #Evaluate\n",
    "# print(f'Accuracy = {accuracy_score(y_test, preds):.2f}\\nRecall = {recall_score(y_test, preds):.2f}\\n')\n",
    "# cm = confussion_matrix(y_test, preds)\n",
    "# plt.figure(figsize=(8,6))\n",
    "# plt.title('Confusion Matrix (without SMOTE)', size =16)\n",
    "# sns.heatmap(cm, annot=True, cmap=\"Blues\")\n",
    "\n"
   ]
  },
  {
   "cell_type": "code",
   "execution_count": 34,
   "id": "ad45948d",
   "metadata": {
    "ExecuteTime": {
     "end_time": "2021-07-21T00:15:29.174420Z",
     "start_time": "2021-07-21T00:15:25.709674Z"
    }
   },
   "outputs": [
    {
     "name": "stdout",
     "output_type": "stream",
     "text": [
      "Requirement already satisfied: imbalanced-learn in /Users/jonathanfuentes/opt/anaconda3/envs/mlenv/lib/python3.7/site-packages (0.8.0)\n",
      "Requirement already satisfied: numpy>=1.13.3 in /Users/jonathanfuentes/opt/anaconda3/envs/mlenv/lib/python3.7/site-packages (from imbalanced-learn) (1.20.1)\n",
      "Requirement already satisfied: scikit-learn>=0.24 in /Users/jonathanfuentes/opt/anaconda3/envs/mlenv/lib/python3.7/site-packages (from imbalanced-learn) (0.24.1)\n",
      "Requirement already satisfied: scipy>=0.19.1 in /Users/jonathanfuentes/opt/anaconda3/envs/mlenv/lib/python3.7/site-packages (from imbalanced-learn) (1.6.2)\n",
      "Requirement already satisfied: joblib>=0.11 in /Users/jonathanfuentes/opt/anaconda3/envs/mlenv/lib/python3.7/site-packages (from imbalanced-learn) (1.0.1)\n",
      "Requirement already satisfied: threadpoolctl>=2.0.0 in /Users/jonathanfuentes/opt/anaconda3/envs/mlenv/lib/python3.7/site-packages (from scikit-learn>=0.24->imbalanced-learn) (2.1.0)\n",
      "Note: you may need to restart the kernel to use updated packages.\n"
     ]
    }
   ],
   "source": [
    "pip install imbalanced-learn"
   ]
  },
  {
   "cell_type": "code",
   "execution_count": null,
   "id": "e5acf55b",
   "metadata": {
    "ExecuteTime": {
     "end_time": "2021-07-21T16:56:11.321317Z",
     "start_time": "2021-07-21T16:56:09.440832Z"
    }
   },
   "outputs": [],
   "source": [
    "from imblearn.over_sampling import SMOTE\n",
    "\n",
    "sm = SMOTE(random_state=42)\n",
    "\n",
    "X_sm, y_sm = sm.fit_resample(X,y)\n",
    "\n",
    "print(f'''Shape of X before SMOTE: {X.shape}\n",
    "Shape of X after Smote: {X_sm.shape}''')\n",
    "\n",
    "print('\\nBalance of positive and negative classes (%):')\n",
    "y_sm.value_counts(normalize=True)*100"
   ]
  },
  {
   "cell_type": "code",
   "execution_count": null,
   "id": "a7069b54",
   "metadata": {
    "ExecuteTime": {
     "end_time": "2021-07-21T00:20:51.130297Z",
     "start_time": "2021-07-21T00:16:03.209908Z"
    },
    "scrolled": true
   },
   "outputs": [],
   "source": [
    "model = LogisticRegression(solver='lbfgs', random_state=1)\n",
    "model.fit(X_resampled, y_resampled)\n",
    "\n",
    "y_pred = model.predict(X_test)\n",
    "balanced_accuracy_score(y_test, y_pred)\n",
    "\n",
    "confusion_matrix(y_test, y_pred)\n",
    "\n",
    "print(classification_report_imbalanced(y_test, y_pred))"
   ]
  },
  {
   "cell_type": "code",
   "execution_count": null,
   "id": "4eefa19b",
   "metadata": {},
   "outputs": [],
   "source": [
    "# # Import dependecies needed\n",
    "# from sklearn.ensemble import RandomForestClassifier\n",
    "# from sklearn.metrics import accuracy_score, recall_score, confusion_matrix\n",
    "\n",
    "# X_train, X_test, y_train, y_test = train_test_split(\n",
    "#     X_sm, y_sm, test_size=0.25, random_state=42)\n",
    "\n",
    "# model = RandomForestClassifier(random_state=42)\n",
    "# model.fit(X_train, y_train)\n",
    "# preds = model.predict(X_test)\n",
    "\n",
    "# print(f'Accuracy = {accuracy_score(y_test, preds):.2f}\\nRecall = {recall_score(y_test, preds):.2f}\\n')\n",
    "# cm = confussion_matrix(y_test, preds)\n",
    "# plt.figure(figsize=(8,6))\n",
    "# plt.title('Confusion Matrix (with SMOTE)', size =16)\n",
    "# sns.heatmap(cm, annot=True, cmap=\"Blues\")"
   ]
  },
  {
   "cell_type": "code",
   "execution_count": 42,
   "id": "eccd9b1d",
   "metadata": {},
   "outputs": [
    {
     "name": "stdout",
     "output_type": "stream",
     "text": [
      "Collecting shap\n",
      "  Downloading shap-0.39.0.tar.gz (356 kB)\n",
      "\u001b[K     |████████████████████████████████| 356 kB 12.8 MB/s eta 0:00:01\n",
      "\u001b[?25hRequirement already satisfied: numpy in /Users/jonathanfuentes/opt/anaconda3/envs/mlenv/lib/python3.7/site-packages (from shap) (1.20.1)\n",
      "Requirement already satisfied: scipy in /Users/jonathanfuentes/opt/anaconda3/envs/mlenv/lib/python3.7/site-packages (from shap) (1.6.2)\n",
      "Requirement already satisfied: scikit-learn in /Users/jonathanfuentes/opt/anaconda3/envs/mlenv/lib/python3.7/site-packages (from shap) (0.24.1)\n",
      "Requirement already satisfied: pandas in /Users/jonathanfuentes/opt/anaconda3/envs/mlenv/lib/python3.7/site-packages (from shap) (1.2.4)\n",
      "Requirement already satisfied: tqdm>4.25.0 in /Users/jonathanfuentes/opt/anaconda3/envs/mlenv/lib/python3.7/site-packages (from shap) (4.59.0)\n",
      "Collecting slicer==0.0.7\n",
      "  Downloading slicer-0.0.7-py3-none-any.whl (14 kB)\n",
      "Requirement already satisfied: numba in /Users/jonathanfuentes/opt/anaconda3/envs/mlenv/lib/python3.7/site-packages (from shap) (0.53.1)\n",
      "Requirement already satisfied: cloudpickle in /Users/jonathanfuentes/opt/anaconda3/envs/mlenv/lib/python3.7/site-packages (from shap) (1.6.0)\n",
      "Requirement already satisfied: setuptools in /Users/jonathanfuentes/opt/anaconda3/envs/mlenv/lib/python3.7/site-packages (from numba->shap) (52.0.0.post20210125)\n",
      "Requirement already satisfied: llvmlite<0.37,>=0.36.0rc1 in /Users/jonathanfuentes/opt/anaconda3/envs/mlenv/lib/python3.7/site-packages (from numba->shap) (0.36.0)\n",
      "Requirement already satisfied: python-dateutil>=2.7.3 in /Users/jonathanfuentes/opt/anaconda3/envs/mlenv/lib/python3.7/site-packages (from pandas->shap) (2.8.1)\n",
      "Requirement already satisfied: pytz>=2017.3 in /Users/jonathanfuentes/opt/anaconda3/envs/mlenv/lib/python3.7/site-packages (from pandas->shap) (2021.1)\n",
      "Requirement already satisfied: six>=1.5 in /Users/jonathanfuentes/opt/anaconda3/envs/mlenv/lib/python3.7/site-packages (from python-dateutil>=2.7.3->pandas->shap) (1.15.0)\n",
      "Requirement already satisfied: threadpoolctl>=2.0.0 in /Users/jonathanfuentes/opt/anaconda3/envs/mlenv/lib/python3.7/site-packages (from scikit-learn->shap) (2.1.0)\n",
      "Requirement already satisfied: joblib>=0.11 in /Users/jonathanfuentes/opt/anaconda3/envs/mlenv/lib/python3.7/site-packages (from scikit-learn->shap) (1.0.1)\n",
      "Building wheels for collected packages: shap\n",
      "  Building wheel for shap (setup.py) ... \u001b[?25ldone\n",
      "\u001b[?25h  Created wheel for shap: filename=shap-0.39.0-cp37-cp37m-macosx_10_9_x86_64.whl size=416054 sha256=f0fca50d447974e2e330df8464f5a2087218d5862cf8709f8df572d6c5a7bab3\n",
      "  Stored in directory: /Users/jonathanfuentes/Library/Caches/pip/wheels/ca/25/8f/6ae5df62c32651cd719e972e738a8aaa4a87414c4d2b14c9c0\n",
      "Successfully built shap\n",
      "Installing collected packages: slicer, shap\n",
      "Successfully installed shap-0.39.0 slicer-0.0.7\n",
      "Note: you may need to restart the kernel to use updated packages.\n"
     ]
    }
   ],
   "source": [
    "pip install shap"
   ]
  },
  {
   "cell_type": "code",
   "execution_count": 43,
   "id": "4fbbcb5e",
   "metadata": {},
   "outputs": [],
   "source": [
    "# from sklearn.ensemble import RandomForestRegressor\n",
    "# from sklearn.inspection import permutation_importance\n",
    "# import shap\n",
    "# plt.rcParams.update({'figure.figsize': (12.0, 8.0)})\n",
    "# plt.rcParams.update({'font.size': 14})"
   ]
  },
  {
   "cell_type": "code",
   "execution_count": 58,
   "id": "52bbe4cb",
   "metadata": {},
   "outputs": [
    {
     "data": {
      "text/plain": [
       "RandomForestRegressor()"
      ]
     },
     "execution_count": 58,
     "metadata": {},
     "output_type": "execute_result"
    }
   ],
   "source": [
    "# rf = RandomForestRegressor(n_estimators=100)\n",
    "# rf.fit(X_train, y_train)"
   ]
  },
  {
   "cell_type": "code",
   "execution_count": 59,
   "id": "fab7ea11",
   "metadata": {},
   "outputs": [
    {
     "data": {
      "text/plain": [
       "array([0.32648025, 0.0471009 , 0.03868698, 0.06586601, 0.09205529,\n",
       "       0.42158725, 0.00221441, 0.00375599, 0.00225292])"
      ]
     },
     "execution_count": 59,
     "metadata": {},
     "output_type": "execute_result"
    }
   ],
   "source": [
    "# rf.feature_importances_"
   ]
  },
  {
   "cell_type": "code",
   "execution_count": null,
   "id": "059dba7d",
   "metadata": {},
   "outputs": [],
   "source": [
    "# plt.barh(cols_to_keep.columns, rf.feature_importances_)"
   ]
  },
  {
   "cell_type": "code",
   "execution_count": null,
   "id": "242dca36",
   "metadata": {},
   "outputs": [],
   "source": [
    "# sorted_idx = rf.feature_importances_.argsort()\n",
    "# plt.barh(rf.feature_names[sorted_idx], rf.feature_importances_[sorted_idx])\n",
    "# plt.xlabel(\"Random Forest Feature Importance\")"
   ]
  },
  {
   "cell_type": "code",
   "execution_count": null,
   "id": "4f3108ec",
   "metadata": {},
   "outputs": [],
   "source": [
    "# explainer = shap.TreeExplainer(rf)\n",
    "# shap_values = explainer.shap_values(X_test)"
   ]
  },
  {
   "cell_type": "code",
   "execution_count": null,
   "id": "25cdc675",
   "metadata": {},
   "outputs": [],
   "source": [
    "# shap.summary_plot(shap_values, X_test, plot_type=\"bar\")"
   ]
  },
  {
   "cell_type": "code",
   "execution_count": null,
   "id": "17b007cb",
   "metadata": {},
   "outputs": [],
   "source": [
    "# shap.summary_plot(shap_values, X_test)"
   ]
  }
 ],
 "metadata": {
  "kernelspec": {

   "display_name": "Python 3",
   "language": "python",
   "name": "python3"

   "display_name": "mlenv",
   "language": "python",
   "name": "mlenv"

  },
  "language_info": {
   "codemirror_mode": {
    "name": "ipython",
    "version": 3
   },
   "file_extension": ".py",
   "mimetype": "text/x-python",
   "name": "python",
   "nbconvert_exporter": "python",
   "pygments_lexer": "ipython3",

   "version": "3.9.5"

   "version": "3.7.10"

  },
  "varInspector": {
   "cols": {
    "lenName": 16,
    "lenType": 16,
    "lenVar": 40
   },
   "kernels_config": {
    "python": {
     "delete_cmd_postfix": "",
     "delete_cmd_prefix": "del ",
     "library": "var_list.py",
     "varRefreshCmd": "print(var_dic_list())"
    },
    "r": {
     "delete_cmd_postfix": ") ",
     "delete_cmd_prefix": "rm(",
     "library": "var_list.r",
     "varRefreshCmd": "cat(var_dic_list()) "
    }
   },
   "position": {
    "height": "252px",
    "left": "847px",
    "right": "20px",
    "top": "8px",
    "width": "551px"
   },
   "types_to_exclude": [
    "module",
    "function",
    "builtin_function_or_method",
    "instance",
    "_Feature"
   ],
   "window_display": true
  }
 },
 "nbformat": 4,
 "nbformat_minor": 5
}
